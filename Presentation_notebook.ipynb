{
 "cells": [
  {
   "cell_type": "code",
   "execution_count": 1,
   "metadata": {
    "scrolled": true
   },
   "outputs": [
    {
     "name": "stdout",
     "output_type": "stream",
     "text": [
      "Possible categories: \n",
      " 1. Points (pts) \n",
      " 2. Rebounds (trb) \n",
      " 3. Assists (ast) \n",
      " 4. Steals (stl) \n",
      " 5. Blocks (blk) \n",
      " 6. Turnovers (tov) \n",
      " 7. Field goal percentage (fg_pct) \n",
      " 8. Mid-range Field goal percentage (fg2_pct) \n",
      " 9. 3-point percentage (fg3_pct) \n",
      " 10: Free-throw percentage (ft_pct) \n",
      " 11: Win Share (ws)\n",
      "\n",
      "(Optional) \n",
      "Please select categories, ordered by importance (Separated by commas(,)): \n",
      "\n",
      "Please input player name: \n",
      "q\n",
      "\n"
     ]
    }
   ],
   "source": [
    "import pandas as pd\n",
    "import ipynb\n",
    "from ipynb.fs.full.Functions import check_categories, check_position, rec_similar_players, get_projected_ws\n",
    "\n",
    "import streamlit as st\n",
    "\n",
    "import matplotlib.pyplot as plt\n",
    "import seaborn as sns\n",
    "import plotly.express as px\n",
    "import plotly.graph_objects as go\n",
    "import plotly.figure_factory as ff\n",
    "\n",
    "import warnings\n",
    "warnings.filterwarnings('ignore')\n",
    "\n",
    "pd.set_option('display.max_columns',100)\n",
    "pd.set_option('display.max_rows',100)"
   ]
  },
  {
   "cell_type": "markdown",
   "metadata": {},
   "source": [
    "# Context:\n",
    "###### OH NO! The player you wanted to draft for your fantasy team is unavailable! Who should you pick?\n",
    "<br>\n",
    "This might help"
   ]
  },
  {
   "cell_type": "markdown",
   "metadata": {},
   "source": [
    "# Models"
   ]
  },
  {
   "cell_type": "code",
   "execution_count": 2,
   "metadata": {
    "code_folding": []
   },
   "outputs": [],
   "source": [
    "# Load the data \n",
    "df_3p_era = pd.read_pickle('final_df.pickle')"
   ]
  },
  {
   "cell_type": "code",
   "execution_count": 3,
   "metadata": {
    "code_folding": []
   },
   "outputs": [],
   "source": [
    "# Alter dataframe to get rid of duplicates \n",
    "dupes = df_3p_era[df_3p_era.duplicated(['pid','age'],keep=False)].sort_values(by=['player','g'],ascending=False)\n",
    "data = df_3p_era.drop(dupes.index)\n",
    "data = pd.concat([data, dupes[dupes.tm == 'TOT']])\n",
    "\n",
    "data = data.rename(columns={'3p':'fg3',\n",
    "                   '3pa':'fg3a',\n",
    "                   '2p':'fg2',\n",
    "                   '2pa':'fg2a',\n",
    "                   '3p_pct':'fg3_pct',\n",
    "                   '2p_pct':'fg2_pct'})"
   ]
  },
  {
   "cell_type": "markdown",
   "metadata": {},
   "source": [
    "Check out [Modelling Notebook](Predicting_Future_WS.ipynb)"
   ]
  },
  {
   "cell_type": "markdown",
   "metadata": {},
   "source": [
    "# Recommendations"
   ]
  },
  {
   "cell_type": "markdown",
   "metadata": {},
   "source": [
    "## Recommending Players"
   ]
  },
  {
   "cell_type": "code",
   "execution_count": null,
   "metadata": {},
   "outputs": [
    {
     "name": "stdout",
     "output_type": "stream",
     "text": [
      "Possible categories: \n",
      " 1. Points (pts) \n",
      " 2. Rebounds (trb) \n",
      " 3. Assists (ast) \n",
      " 4. Steals (stl) \n",
      " 5. Blocks (blk) \n",
      " 6. Turnovers (tov) \n",
      " 7. Field goal percentage (fg_pct) \n",
      " 8. Mid-range Field goal percentage (fg2_pct) \n",
      " 9. 3-point percentage (fg3_pct) \n",
      " 10: Free-throw percentage (ft_pct) \n",
      " 11: Win Share (ws)\n"
     ]
    }
   ],
   "source": [
    "recs = rec_similar_players()\n",
    "recs"
   ]
  },
  {
   "cell_type": "markdown",
   "metadata": {},
   "source": [
    "## Given the recommended players, display projected win-shares for next season"
   ]
  },
  {
   "cell_type": "markdown",
   "metadata": {},
   "source": [
    "##### Why win share?\n",
    "In this dataset, there were two metrics to quantify performance. \n",
    "<br>\n",
    "One was PER (Player Efficiency Rating), which is a per-minute rating of a player's performance. It assigns carefully calculated coefficients to various player stats and aggregates this into a rating. \n",
    "<br>\n",
    "The other was WS (Win Share), which calculates how much a player's performance contributed to a team's success.\n",
    "<br>\n",
    "With Yahoo's fantasy basketball league scoring system, I calculated how many fantasy points each player accrued for each season he played (from 1980 to 2019). \n",
    "<br>\n",
    "<br>\n",
    "Since this is the direct performance claculation for fantasy basketball, determine which NBA metric would be better at predicting this fantasy basketball metric.\n",
    "<br>\n",
    "<br>\n",
    "THE ONE WITH HIGHER CORRELATION TO FANTASY POINTS IS BETTER!!"
   ]
  },
  {
   "cell_type": "code",
   "execution_count": null,
   "metadata": {
    "code_folding": []
   },
   "outputs": [],
   "source": [
    "# Correlation between fantasy points and NBA metrics \n",
    "sns.heatmap(df_3p_era[['ws','per','bpm','vorp','ftsy_pts']].corr(), annot=True)\n",
    "# ff.create_annotated_heatmap(df_3p_era[['ws','per','bpm','vorp','ftsy_pts']].corr())"
   ]
  },
  {
   "cell_type": "markdown",
   "metadata": {},
   "source": [
    "##### Show win share projections for each player"
   ]
  },
  {
   "cell_type": "code",
   "execution_count": null,
   "metadata": {
    "scrolled": true
   },
   "outputs": [],
   "source": [
    "get_projected_ws(recs)"
   ]
  },
  {
   "cell_type": "markdown",
   "metadata": {},
   "source": [
    "# Comparing all seasons (1980 - 2019)"
   ]
  },
  {
   "cell_type": "code",
   "execution_count": null,
   "metadata": {
    "code_folding": []
   },
   "outputs": [],
   "source": [
    "# Distribution of win shares \n",
    "ff.create_distplot([list(data.ws)], ['Win Shares'])"
   ]
  },
  {
   "cell_type": "code",
   "execution_count": null,
   "metadata": {
    "code_folding": [
     0
    ]
   },
   "outputs": [],
   "source": [
    "# Just a basic count of players for each season in dataset \n",
    "basic_count = data.groupby('season').count()[['player']].reset_index()\n",
    "p_count_fig = go.Figure(go.Bar(x=basic_count.season, y=basic_count.player))\n",
    "p_count_fig.show()\n"
   ]
  },
  {
   "cell_type": "code",
   "execution_count": null,
   "metadata": {
    "code_folding": [
     0
    ],
    "scrolled": false
   },
   "outputs": [],
   "source": [
    "# Display trend of positions over the years \n",
    "pos_season_df = df_3p_era[df_3p_era.tm != 'TOT'].groupby(['season','pos']).count()[['player']].unstack()\n",
    "\n",
    "names = list(set(pos_season_df.player.columns))\n",
    "\n",
    "# create a container for each go.Bar instance\n",
    "lines = []\n",
    "\n",
    "# loop through the names list which is each player class \n",
    "for i in range(len(names)):\n",
    "    # dictionary with necessary arguments to graph\n",
    "    line_dict = dict(name=names[i], x=pos_season_df.index, y=pos_season_df.player[names[i]])\n",
    "    # add to bars container\n",
    "    lines.append(line_dict)\n",
    "\n",
    "# set fig1 to the Figure instance\n",
    "fig_trend = go.Figure(lines)\n",
    "\n",
    "fig_trend.update_layout(\n",
    "    title=go.layout.Title(\n",
    "        text=\"Position Trend\",\n",
    "        xref=\"paper\",\n",
    "        x=0.5,\n",
    "        y=0.85,\n",
    "        font=dict(\n",
    "            size=20)\n",
    "    ),\n",
    "    xaxis=go.layout.XAxis(\n",
    "        title=go.layout.xaxis.Title(\n",
    "            text=\"Seasons\",\n",
    "            font=dict(\n",
    "#                 family=\"Courier New, monospace\",\n",
    "                size=15,\n",
    "                color=\"#7f7f7f\"))\n",
    "    ),\n",
    "    yaxis=go.layout.YAxis(\n",
    "        title=go.layout.yaxis.Title(\n",
    "            text=\"Position Count\",\n",
    "            font=dict(\n",
    "#                 family=\"Courier New, monospace\",\n",
    "                size=15,\n",
    "                color=\"#7f7f7f\"))))\n",
    "\n",
    "fig_trend.show()"
   ]
  },
  {
   "cell_type": "code",
   "execution_count": null,
   "metadata": {
    "code_folding": [
     0
    ]
   },
   "outputs": [],
   "source": [
    "# Display trend of total stats over the years \n",
    "scoring_df = df_3p_era[df_3p_era.tm != 'TOT'].groupby(['season']).sum()[['g','mp','pts','trb','ast','stl','blk','tov','ws']]\n",
    "\n",
    "value_names = list(scoring_df.columns)\n",
    "\n",
    "# create a container for each go.Bar instance\n",
    "lines = []\n",
    "\n",
    "# loop through the names list which is each player class \n",
    "for i in range(len(value_names)):\n",
    "    # dictionary with necessary arguments to graph\n",
    "    line_dict = dict(name=value_names[i], x=scoring_df.index, y=scoring_df[value_names[i]])\n",
    "    # add to bars container\n",
    "    lines.append(line_dict)\n",
    "\n",
    "# set fig1 to the Figure instance\n",
    "stats_trend = go.Figure(lines)\n",
    "\n",
    "stats_trend.update_layout(\n",
    "    title=go.layout.Title(\n",
    "        text=\"Total Stats Trend\",\n",
    "        xref=\"paper\",\n",
    "        x=0.5,\n",
    "        y=0.85,\n",
    "        font=dict(\n",
    "            size=20)\n",
    "    ),\n",
    "    xaxis=go.layout.XAxis(\n",
    "        title=go.layout.xaxis.Title(\n",
    "            text=\"Seasons\",\n",
    "            font=dict(\n",
    "#                 family=\"Courier New, monospace\",\n",
    "                size=15,\n",
    "                color=\"#7f7f7f\"))\n",
    "    ),\n",
    "    yaxis=go.layout.YAxis(\n",
    "        title=go.layout.yaxis.Title(\n",
    "            text=\"Stats Totals\",\n",
    "            font=dict(\n",
    "#                 family=\"Courier New, monospace\",\n",
    "                size=15,\n",
    "                color=\"#7f7f7f\"))))\n",
    "\n",
    "stats_trend.show()"
   ]
  },
  {
   "cell_type": "code",
   "execution_count": null,
   "metadata": {
    "code_folding": [
     0
    ]
   },
   "outputs": [],
   "source": [
    "# Display trend of average stats over the years \n",
    "avg_scoring_df = df_3p_era[df_3p_era.tm != 'TOT'].groupby(['season']).mean()[['g','mp','pts','trb','ast','stl','blk','tov','ws']]\n",
    "\n",
    "value_names = list(avg_scoring_df.columns)\n",
    "\n",
    "# create a container for each go.Bar instance\n",
    "lines = []\n",
    "\n",
    "# loop through the names list which is each player class \n",
    "for i in range(len(value_names)):\n",
    "    # dictionary with necessary arguments to graph\n",
    "    line_dict = dict(name=value_names[i], x=avg_scoring_df.index, y=avg_scoring_df[value_names[i]])\n",
    "    # add to bars container\n",
    "    lines.append(line_dict)\n",
    "\n",
    "# set fig1 to the Figure instance\n",
    "stats_trend = go.Figure(lines)\n",
    "\n",
    "stats_trend.update_layout(\n",
    "    title=go.layout.Title(\n",
    "        text=\"Average Stats Trend\",\n",
    "        xref=\"paper\",\n",
    "        x=0.5,\n",
    "        y=0.85,\n",
    "        font=dict(\n",
    "            size=20)\n",
    "    ),\n",
    "    xaxis=go.layout.XAxis(\n",
    "        title=go.layout.xaxis.Title(\n",
    "            text=\"Seasons\",\n",
    "            font=dict(\n",
    "#                 family=\"Courier New, monospace\",\n",
    "                size=15,\n",
    "                color=\"#7f7f7f\"))\n",
    "    ),\n",
    "    yaxis=go.layout.YAxis(\n",
    "        title=go.layout.yaxis.Title(\n",
    "            text=\"Stats Totals\",\n",
    "            font=dict(\n",
    "#                 family=\"Courier New, monospace\",\n",
    "                size=15,\n",
    "                color=\"#7f7f7f\"))))\n",
    "\n",
    "stats_trend.show()"
   ]
  },
  {
   "cell_type": "code",
   "execution_count": null,
   "metadata": {
    "code_folding": [
     0
    ],
    "scrolled": false
   },
   "outputs": [],
   "source": [
    "# Shooting percentages by season \n",
    "field_goals = data.groupby('season').mean()[['fg_pct','fg2_pct','fg3_pct','ft_pct']]\n",
    "lines = []\n",
    "lines.append(dict(name='3-Point Percentage', x=field_goals.index, y=field_goals.fg3_pct))\n",
    "lines.append(dict(name='Mid-range FG Percentage', x=field_goals.index, y=field_goals.fg2_pct))\n",
    "lines.append(dict(name='Overall FG Percentage', x=field_goals.index, y=field_goals.fg_pct))\n",
    "lines.append(dict(name='Free Throw Percentage', x=field_goals.index, y=field_goals.ft_pct))\n",
    "go.Figure(lines)"
   ]
  },
  {
   "cell_type": "code",
   "execution_count": null,
   "metadata": {
    "code_folding": [
     0
    ],
    "scrolled": false
   },
   "outputs": [],
   "source": [
    "# Shooting percentages of each position over the seasons\n",
    "plop = df_3p_era[df_3p_era.tm != 'TOT'].groupby(['season','pos']).mean()[['fg_pct','3p_pct']].unstack()\n",
    "\n",
    "a,b = plop.columns.levels\n",
    "\n",
    "lines = []\n",
    "\n",
    "feature = list(a)\n",
    "position = list(b)\n",
    "names = [nam+'_'+nom.replace('_pct','%').upper() for nom in a for nam in b]\n",
    "\n",
    "for f in feature:\n",
    "    for posit in position:\n",
    "        lines.append(dict(x=plop.index, y=plop[f][posit]))\n",
    "for i in range(len(lines)):\n",
    "    lines[i]['name'] = names[i]\n",
    "    \n",
    "sht_pct = go.Figure(lines)\n",
    "\n",
    "sht_pct.update_layout(\n",
    "    title=go.layout.Title(\n",
    "        text=\"Shooting Percentage of Positions\",\n",
    "        xref=\"paper\",\n",
    "        x=0.5,\n",
    "        y=0.85,\n",
    "        font=dict(\n",
    "            size=20)\n",
    "    ),\n",
    "    xaxis=go.layout.XAxis(\n",
    "        title=go.layout.xaxis.Title(\n",
    "            text=\"Seasons\",\n",
    "            font=dict(\n",
    "#                 family=\"Courier New, monospace\",\n",
    "                size=15,\n",
    "                color=\"#7f7f7f\"))\n",
    "    ),\n",
    "    yaxis=go.layout.YAxis(\n",
    "        title=go.layout.yaxis.Title(\n",
    "            text=\"Shooting Percentage\",\n",
    "            font=dict(\n",
    "#                 family=\"Courier New, monospace\",\n",
    "                size=15,\n",
    "                color=\"#7f7f7f\"))))"
   ]
  },
  {
   "cell_type": "code",
   "execution_count": null,
   "metadata": {
    "code_folding": [
     0
    ]
   },
   "outputs": [],
   "source": [
    "# Display win share vs minutes played \n",
    "mp_ws = data.groupby(['player','season']).sum().reset_index()\n",
    "\n",
    "mp_vs_ws_fig = px.scatter(mp_ws, x='mp', y='ws', color='experience')\n",
    "\n",
    "mp_vs_ws_fig.update_layout(\n",
    "    title=go.layout.Title(\n",
    "        text=\"Minutes Played VS Win Share\",\n",
    "        xref=\"paper\",\n",
    "        x=0.5,\n",
    "        y=0.95,\n",
    "        font=dict(\n",
    "            size=20)\n",
    "    ),\n",
    "    xaxis=go.layout.XAxis(\n",
    "        title=go.layout.xaxis.Title(\n",
    "            text=\"Minutes Played\",\n",
    "            font=dict(\n",
    "#                 family=\"Courier New, monospace\",\n",
    "                size=15,\n",
    "                color=\"#7f7f7f\"))\n",
    "    ),\n",
    "    yaxis=go.layout.YAxis(\n",
    "        title=go.layout.yaxis.Title(\n",
    "            text=\"Win Share\",\n",
    "            font=dict(\n",
    "#                 family=\"Courier New, monospace\",\n",
    "                size=15,\n",
    "                color=\"#7f7f7f\"))))\n",
    "\n",
    "mp_vs_ws_fig.show()"
   ]
  },
  {
   "cell_type": "code",
   "execution_count": null,
   "metadata": {
    "code_folding": [
     0
    ]
   },
   "outputs": [],
   "source": [
    "# Graphing total win shares distributed by class per season \n",
    "# creating dataframe for graph\n",
    "grouped_szn_exp = data.groupby(['season','experience'])\n",
    "player_sum_df = grouped_szn_exp.sum().reset_index()\n",
    "\n",
    "fig2 = px.scatter_3d(player_sum_df, x='season', y='experience', z='ws', color='experience')\n",
    "\n",
    "fig2.update_layout(\n",
    "    title=go.layout.Title(\n",
    "        text=\"Total Win Share by Experience per Season\",\n",
    "        xref=\"paper\",\n",
    "        x=0.5,\n",
    "        y=0.95,\n",
    "        font=dict(\n",
    "            size=20)))\n",
    "\n",
    "fig2.show()"
   ]
  },
  {
   "cell_type": "code",
   "execution_count": null,
   "metadata": {
    "code_folding": [
     0
    ],
    "scrolled": false
   },
   "outputs": [],
   "source": [
    "# Graphing average win shares distributed by class per season\n",
    "fig4 = px.scatter_3d(grouped_szn_exp.mean().reset_index(), x='season', y='experience', z='ws', color='experience')\n",
    "\n",
    "fig4.update_layout(\n",
    "    title=go.layout.Title(\n",
    "        text=\"Average Win Share by Experience per Season\",\n",
    "        xref=\"paper\",\n",
    "        x=0.5,\n",
    "        y=0.95,\n",
    "        font=dict(\n",
    "            size=20)))\n",
    "\n",
    "fig4.show()"
   ]
  },
  {
   "cell_type": "code",
   "execution_count": null,
   "metadata": {
    "scrolled": true
   },
   "outputs": [],
   "source": []
  },
  {
   "cell_type": "code",
   "execution_count": null,
   "metadata": {},
   "outputs": [],
   "source": []
  }
 ],
 "metadata": {
  "kernelspec": {
   "display_name": "Python 3",
   "language": "python",
   "name": "python3"
  },
  "language_info": {
   "codemirror_mode": {
    "name": "ipython",
    "version": 3
   },
   "file_extension": ".py",
   "mimetype": "text/x-python",
   "name": "python",
   "nbconvert_exporter": "python",
   "pygments_lexer": "ipython3",
   "version": "3.7.3"
  },
  "toc": {
   "base_numbering": 1,
   "nav_menu": {},
   "number_sections": true,
   "sideBar": true,
   "skip_h1_title": false,
   "title_cell": "Table of Contents",
   "title_sidebar": "Contents",
   "toc_cell": false,
   "toc_position": {},
   "toc_section_display": true,
   "toc_window_display": false
  }
 },
 "nbformat": 4,
 "nbformat_minor": 2
}
