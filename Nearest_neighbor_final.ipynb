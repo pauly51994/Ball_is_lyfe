{
 "cells": [
  {
   "cell_type": "markdown",
   "metadata": {},
   "source": [
    "## Import some 'braries"
   ]
  },
  {
   "cell_type": "code",
   "execution_count": 1,
   "metadata": {},
   "outputs": [],
   "source": [
    "import pandas as pd\n",
    "pd.set_option('display.max_columns',100)\n",
    "\n",
    "# from scipy.spatial.distance import euclidean as euc\n",
    "import numpy as np\n",
    "np.random.seed(0)\n",
    "\n",
    "# from sklearn.model_selection import train_test_split\n",
    "# from sklearn.metrics import accuracy_score"
   ]
  },
  {
   "cell_type": "markdown",
   "metadata": {},
   "source": [
    "## Original"
   ]
  },
  {
   "cell_type": "markdown",
   "metadata": {},
   "source": [
    "### Setting up df"
   ]
  },
  {
   "cell_type": "markdown",
   "metadata": {
    "code_folding": [
     0
    ]
   },
   "source": [
    "# Creating initial dataframe\n",
    "df1 = pd.read_pickle('final_df.pickle')\n",
    "\n",
    "dupes = df1[df1.duplicated(['pid','age'],keep=False)].sort_values(by=['player','g'],ascending=False)\n",
    "\n",
    "df1 = df1.drop(dupes.index)\n",
    "\n",
    "df1 = pd.concat([df1, dupes[dupes.tm == 'TOT']])\n",
    "\n",
    "df1 = df1.rename(columns={'3p':'fg3',\n",
    "                   '3pa':'fg3a',\n",
    "                   '2p':'fg2',\n",
    "                   '2pa':'fg2a',\n",
    "                   '3p_pct':'fg3_pct',\n",
    "                   '2p_pct':'fg2_pct'})"
   ]
  },
  {
   "cell_type": "markdown",
   "metadata": {
    "code_folding": [
     0
    ]
   },
   "source": [
    "# Features of interest \n",
    "cols = ['player', 'pos', 'mp', 'fg2_pct', 'fg3_pct', 'ft_pct', 'pts', 'trb', 'ast', 'stl', 'blk', 'tov', 'pf', 'ws']"
   ]
  },
  {
   "cell_type": "markdown",
   "metadata": {
    "code_folding": [
     0
    ],
    "scrolled": true
   },
   "source": [
    "# Setting up df to have only recent players \n",
    "test = df1[df1.season == 2019][cols]\n",
    "test.player = [name.title() for name in test.player]"
   ]
  },
  {
   "cell_type": "markdown",
   "metadata": {
    "code_folding": [
     0
    ]
   },
   "source": [
    "# Created dummies \n",
    "test['PG']=list(map(lambda x: 1 if 'PG' in x else 0, list(test.pos)))\n",
    "test['SG']=list(map(lambda x: 1 if 'SG' in x else 0, list(test.pos)))\n",
    "test['SF']=list(map(lambda x: 1 if 'SF' in x else 0, list(test.pos)))\n",
    "test['PF']=list(map(lambda x: 1 if 'PF' in x else 0, list(test.pos)))\n",
    "test['C']=list(map(lambda x: 1 if 'C' in x else 0, list(test.pos)))"
   ]
  },
  {
   "cell_type": "markdown",
   "metadata": {},
   "source": [
    "### With position specified, all stats and win-share only"
   ]
  },
  {
   "cell_type": "markdown",
   "metadata": {},
   "source": [
    "position = 'PG'"
   ]
  },
  {
   "cell_type": "markdown",
   "metadata": {},
   "source": [
    "player = test[test.player == input('Please enter player name: \\n').title()].index[0]\n",
    "player = test.loc[player]"
   ]
  },
  {
   "cell_type": "markdown",
   "metadata": {
    "scrolled": true
   },
   "source": [
    "indie = (test[test.columns[2:]] - player[2:]).abs().sum(axis=1).sort_values().index[1:]"
   ]
  },
  {
   "cell_type": "markdown",
   "metadata": {},
   "source": [
    "###### Filtered by position"
   ]
  },
  {
   "cell_type": "markdown",
   "metadata": {
    "scrolled": true
   },
   "source": [
    "filt = test.loc[indie]\n",
    "filt[filt.pos == position].iloc[:10]"
   ]
  },
  {
   "cell_type": "markdown",
   "metadata": {},
   "source": [
    "###### Not filtered by position"
   ]
  },
  {
   "cell_type": "markdown",
   "metadata": {},
   "source": [
    "filt.iloc[:10]"
   ]
  },
  {
   "cell_type": "markdown",
   "metadata": {},
   "source": [
    "## Using different df"
   ]
  },
  {
   "cell_type": "markdown",
   "metadata": {},
   "source": [
    "df = pd.read_pickle('stats_and_lr_preds.pickle')"
   ]
  },
  {
   "cell_type": "markdown",
   "metadata": {},
   "source": [
    "### With all stats and win-share only"
   ]
  },
  {
   "cell_type": "markdown",
   "metadata": {},
   "source": [
    "main = df[df.season==2019].drop(['season','season_max','draft_year','lasso_preds','ridge_preds',\n",
    "                                 'lin_preds','age', 'experience','g'],axis=1)\n",
    "main.player = [name.title() for name in main.player]\n",
    "\n",
    "print('Possible positions: \\n PG \\n SG \\n SF \\n PF \\n C')\n",
    "\n",
    "unavail = main[(main.player == input('Please input player name: \\n').title())].index[0]\n",
    "unavail = main.loc[unavail]"
   ]
  },
  {
   "cell_type": "markdown",
   "metadata": {
    "scrolled": false
   },
   "source": [
    "ind = (main[main.columns[1:]] - unavail[1:]).abs().sum(axis=1).sort_values().index[1:11]"
   ]
  },
  {
   "cell_type": "markdown",
   "metadata": {},
   "source": [
    "main.loc[ind]"
   ]
  },
  {
   "cell_type": "markdown",
   "metadata": {},
   "source": [
    "### With all stats and win-share and ridge regression predicted win-share"
   ]
  },
  {
   "cell_type": "markdown",
   "metadata": {
    "scrolled": true
   },
   "source": [
    "main1 = df[df.season==2019].drop(['season','season_max','draft_year','lasso_preds',\n",
    "                                 'lin_preds','age', 'experience','g'],axis=1)\n",
    "main1.player = [name.title() for name in main1.player]\n",
    "\n",
    "print('Possible positions: \\n PG \\n SG \\n SF \\n PF \\n C')\n",
    "\n",
    "unavail = main1[(main1.player == input('Please input player name: \\n').title())].index[0]\n",
    "unavail = main1.loc[unavail]"
   ]
  },
  {
   "cell_type": "markdown",
   "metadata": {
    "scrolled": false
   },
   "source": [
    "ind = (main1[main1.columns[1:]] - unavail[1:]).abs().sum(axis=1).sort_values().index[1:11]"
   ]
  },
  {
   "cell_type": "markdown",
   "metadata": {},
   "source": [
    "main1.loc[ind]"
   ]
  },
  {
   "cell_type": "markdown",
   "metadata": {},
   "source": [
    "### With all stats and ridge regression predicted win-share only"
   ]
  },
  {
   "cell_type": "markdown",
   "metadata": {},
   "source": [
    "main2 = df[df.season==2019].drop(['season','season_max','draft_year','lasso_preds','ws',\n",
    "                                 'lin_preds','age', 'experience','g'],axis=1)\n",
    "main2.player = [name.title() for name in main2.player]\n",
    "\n",
    "print('Possible positions: \\n PG \\n SG \\n SF \\n PF \\n C')\n",
    "\n",
    "unavail = main2[(main2.player == input('Please input player name: \\n').title())].index[0]\n",
    "unavail = main2.loc[unavail]"
   ]
  },
  {
   "cell_type": "markdown",
   "metadata": {
    "scrolled": false
   },
   "source": [
    "ind = (main2[main2.columns[1:]] - unavail[1:]).abs().sum(axis=1).sort_values().index[1:11]\n",
    "main2.loc[ind]\n",
    "# main2.merge(ind, left_index=True, right_index=True)"
   ]
  },
  {
   "cell_type": "markdown",
   "metadata": {},
   "source": [
    "main2.loc[ind]"
   ]
  },
  {
   "cell_type": "markdown",
   "metadata": {},
   "source": [
    "Notice no difference in recommendation list"
   ]
  },
  {
   "cell_type": "markdown",
   "metadata": {},
   "source": [
    "## Function"
   ]
  },
  {
   "cell_type": "markdown",
   "metadata": {
    "code_folding": []
   },
   "source": [
    "# DataFrame\n",
    "data = pd.read_pickle('final_df.pickle')\n",
    "\n",
    "dupes = data[data.duplicated(['pid','age'],keep=False)].sort_values(by=['player','g'],ascending=False)\n",
    "\n",
    "data = data.drop(dupes.index)\n",
    "\n",
    "data = pd.concat([data, dupes[dupes.tm == 'TOT']])\n",
    "\n",
    "data = data.rename(columns={'3p':'fg3',\n",
    "                   '3pa':'fg3a',\n",
    "                   '2p':'fg2',\n",
    "                   '2pa':'fg2a',\n",
    "                   '3p_pct':'fg3_pct',\n",
    "                   '2p_pct':'fg2_pct'})\n",
    "\n",
    "# Features of interest \n",
    "cols = ['player', 'pos', 'mp', 'fg2_pct', 'fg3_pct', 'ft_pct',\n",
    "        'pts', 'trb', 'ast', 'stl', 'blk', 'tov', 'pf', 'ws']\n",
    "\n",
    "# Setting up df to have only recent players \n",
    "main_df = data[data.season == 2019][cols]\n",
    "main_df.player = [name.title() for name in main_df.player]"
   ]
  },
  {
   "cell_type": "markdown",
   "metadata": {},
   "source": [
    "name = 'james harden'.title()\n",
    "position = 'pg'.upper()\n",
    "category = ['trb']\n",
    "\n",
    "playa = data[data.player == name].index[0]\n",
    "playa = data.loc[playa]\n",
    "\n"
   ]
  },
  {
   "cell_type": "code",
   "execution_count": 186,
   "metadata": {
    "code_folding": [
     0
    ]
   },
   "outputs": [],
   "source": [
    "# helper functions for rec \n",
    "def check_categories(cat_list, features_list):\n",
    "    cat_dict = {'1': 'pts',\n",
    "                '2': 'trb',\n",
    "                '3': 'ast',\n",
    "                '4': 'stl',\n",
    "                '5': 'blk',\n",
    "                '6': 'tov',\n",
    "                '7': 'fg_pct',\n",
    "                '8': 'fg2_pct',\n",
    "                '9': 'fg3_pct',\n",
    "               '10': 'ft_pct',\n",
    "               '11': 'ws'}\n",
    "    feats = []\n",
    "    for cat in cat_list:\n",
    "        cat = cat.strip()\n",
    "        try:\n",
    "            while int(cat) > 11:\n",
    "                cat = input(f'Category {cat} does not exist. \\nPlease select category:\\n')\n",
    "            feats.append(cat_dict[cat])\n",
    "        except ValueError:\n",
    "            if cat == 'reb':\n",
    "                feats.append('trb')\n",
    "            elif cat == '':\n",
    "                continue\n",
    "            elif cat not in features_list:\n",
    "                while cat not in features_list:\n",
    "                    cat = input(f'Category {cat} does not exist. \\nPlease replace with a valid category:\\n')\n",
    "                    try:\n",
    "                        cat = cat_dict[cat]\n",
    "                    except:\n",
    "                        pass\n",
    "                feats.append(cat)\n",
    "            else:\n",
    "                feats.append(cat)\n",
    "    return feats\n",
    "\n",
    "def check_position(pos):\n",
    "    pos_dict = {'1': 'PG',\n",
    "               '2': 'SG',\n",
    "               '3': 'SF',\n",
    "               '4': 'PF',\n",
    "               '5': 'C'}\n",
    "    \n",
    "    return pos_dict[pos]"
   ]
  },
  {
   "cell_type": "code",
   "execution_count": 224,
   "metadata": {
    "code_folding": [
     0
    ]
   },
   "outputs": [],
   "source": [
    "# Recommendation system \n",
    "def rec_similar_players(given_df = pd.read_pickle('final_df.pickle')):\n",
    "    import pandas as pd\n",
    "    \n",
    "    # Import projected win shares df\n",
    "#     projections = pd.read_pickle('win_share_projections.pickle')\n",
    "    \n",
    "    # DataFrame setup\n",
    "    data = given_df\n",
    "    \n",
    "    if type(given_df) != pd.core.frame.DataFrame:\n",
    "        data = input('Given data is not a pandas dataframe. \\nPlease provide a pandas dataframe: \\n')\n",
    "    \n",
    "    data.columns = [col.lower() for col in data.columns]\n",
    "    \n",
    "    dupes = data[data.duplicated(['pid','age'],keep=False)].sort_values(by=['player','g'],ascending=False)\n",
    "\n",
    "    data = data.drop(dupes.index)\n",
    "\n",
    "    data = pd.concat([data, dupes[dupes.tm == 'TOT']])\n",
    "    \n",
    "    try:\n",
    "        data = data.rename(columns={'3p':'fg3',\n",
    "                                    '3pa':'fg3a',\n",
    "                                    '2p':'fg2',\n",
    "                                    '2pa':'fg2a',\n",
    "                                    '3p_pct':'fg3_pct',\n",
    "                                    '2p_pct':'fg2_pct'})\n",
    "    except:\n",
    "        pass\n",
    "    \n",
    "    # Merge data with win share projections\n",
    "#     data = data.merge(projections[['pid','season','projected_ws']], on=['pid','season'], how='left')\n",
    "    \n",
    "    # Features of interest \n",
    "    features = ['player', 'pos', 'mp', 'fg_pct', 'fg2_pct', 'fg3_pct', 'ft_pct',\n",
    "                'pts', 'trb', 'ast', 'stl', 'blk', 'tov', 'pf', 'ws']\n",
    "    \n",
    "    print('Possible categories: \\n 1. Points (pts) \\n 2. Rebounds (trb) \\n 3. Assists (ast) \\n 4. Steals (stl) \\n 5. Blocks (blk) \\n 6. Turnovers (tov) \\n 7. Field goal percentage (fg_pct) \\n 8. Mid-range Field goal percentage (fg2_pct) \\n 9. 3-point percentage (fg3_pct) \\n 10: Free-throw percentage (ft_pct) \\n 11: Win Share (ws)')\n",
    "    \n",
    "    # ask for categories\n",
    "    categories = input('\\n(Optional) \\nPlease select which categories to compare (Separated by commas(,)): \\n').split(',')\n",
    "    \n",
    "    # check if categories were given\n",
    "    if categories == ['']:\n",
    "        cols = features\n",
    "    else:\n",
    "        cols = ['player', 'pos']\n",
    "        categories = check_categories(categories, features)\n",
    "        categories = list(set(categories))\n",
    "        cols.extend(categories)\n",
    "        \n",
    "    # Setting up df to have only recent players \n",
    "    main_df = data[data.season == 2019][cols]\n",
    "    main_df.player = [name.title() for name in main_df.player]\n",
    "    \n",
    "    # ask for player name that you want to compare\n",
    "    name = input('Please input player name: \\n').title()\n",
    "    print('')\n",
    "    # check to make sure a name is given\n",
    "    while name == '':\n",
    "        name = input('You did not specify player. \\nPlease input player name: \\n').title()\n",
    "        print('')\n",
    "    \n",
    "    # check to see if player exists in dataframe\n",
    "    if name not in list(main_df.player):\n",
    "        while name not in list(main_df.player):\n",
    "            name = input('Player is not in current database. \\nPlease input player name: \\n').title()\n",
    "            print('')\n",
    "    \n",
    "    print('Possible positions: \\n 1. PG (Point Guard) \\n 2. SG (Shooting Guard)\\n 3. SF (Small Forward)\\n 4. PF (Power Forward)\\n 5. C  (Center)')\n",
    "    \n",
    "    # ask for a position to recommend\n",
    "    position = input('\\n(Optional) \\nPlease specify position: \\n')\n",
    "    \n",
    "    # check if position input is numerical\n",
    "    try:\n",
    "        if int(position):\n",
    "            while int(position) > 5:\n",
    "                position = input('Please specify a position: \\n')\n",
    "                \n",
    "            position = check_position(position)\n",
    "    except ValueError:\n",
    "        pass\n",
    "    \n",
    "    # set player to the inputted name\n",
    "    player = main_df[main_df.player == name].index[0]\n",
    "    player = main_df.loc[player]\n",
    "    \n",
    "    # subtract all other players' stats from player and aggregate for a 'distance' from input player\n",
    "    # sort resulting dataframe by this distance\n",
    "    # save the indeces of these players\n",
    "    indeces = (main_df[main_df.columns[2:]] - player[2:]).abs().sum(axis=1).sort_values().index\n",
    "    \n",
    "    # select the players from the main dataframe\n",
    "    neighbors = main_df.loc[indeces].dropna(subset=cols[2:])\n",
    "    \n",
    "    # return the player and the top 10 neighbors\n",
    "    if position == '':\n",
    "#         print(neighbors.iloc[:11].reset_index().drop('index',axis=1))\n",
    "        return neighbors.iloc[:11].reset_index().drop('index',axis=1)\n",
    "    else:\n",
    "#         print(neighbors[neighbors.pos == position.upper()].iloc[:11].reset_index().drop('index',axis=1))\n",
    "        return neighbors[neighbors.pos == position.upper()].iloc[:11].reset_index().drop('index',axis=1)"
   ]
  },
  {
   "cell_type": "code",
   "execution_count": 237,
   "metadata": {
    "code_folding": []
   },
   "outputs": [
    {
     "name": "stdout",
     "output_type": "stream",
     "text": [
      "Possible categories: \n",
      " 1. Points (pts) \n",
      " 2. Rebounds (trb) \n",
      " 3. Assists (ast) \n",
      " 4. Steals (stl) \n",
      " 5. Blocks (blk) \n",
      " 6. Turnovers (tov) \n",
      " 7. Field goal percentage (fg_pct) \n",
      " 8. Mid-range Field goal percentage (fg2_pct) \n",
      " 9. 3-point percentage (fg3_pct) \n",
      " 10: Free-throw percentage (ft_pct) \n",
      " 11: Win Share (ws)\n",
      "\n",
      "(Optional) \n",
      "Please select which categories to compare (Separated by commas(,)): \n",
      "\n",
      "Please input player name: \n",
      "james harden\n",
      "\n",
      "Possible positions: \n",
      " 1. PG (Point Guard) \n",
      " 2. SG (Shooting Guard)\n",
      " 3. SF (Small Forward)\n",
      " 4. PF (Power Forward)\n",
      " 5. C  (Center)\n",
      "\n",
      "(Optional) \n",
      "Please specify position: \n",
      "\n"
     ]
    },
    {
     "data": {
      "text/html": [
       "<div>\n",
       "<style scoped>\n",
       "    .dataframe tbody tr th:only-of-type {\n",
       "        vertical-align: middle;\n",
       "    }\n",
       "\n",
       "    .dataframe tbody tr th {\n",
       "        vertical-align: top;\n",
       "    }\n",
       "\n",
       "    .dataframe thead th {\n",
       "        text-align: right;\n",
       "    }\n",
       "</style>\n",
       "<table border=\"1\" class=\"dataframe\">\n",
       "  <thead>\n",
       "    <tr style=\"text-align: right;\">\n",
       "      <th></th>\n",
       "      <th>player</th>\n",
       "      <th>pos</th>\n",
       "      <th>mp</th>\n",
       "      <th>fg_pct</th>\n",
       "      <th>fg2_pct</th>\n",
       "      <th>fg3_pct</th>\n",
       "      <th>ft_pct</th>\n",
       "      <th>pts</th>\n",
       "      <th>trb</th>\n",
       "      <th>ast</th>\n",
       "      <th>stl</th>\n",
       "      <th>blk</th>\n",
       "      <th>tov</th>\n",
       "      <th>pf</th>\n",
       "      <th>ws</th>\n",
       "    </tr>\n",
       "  </thead>\n",
       "  <tbody>\n",
       "    <tr>\n",
       "      <th>0</th>\n",
       "      <td>James Harden</td>\n",
       "      <td>PG</td>\n",
       "      <td>2867</td>\n",
       "      <td>0.442</td>\n",
       "      <td>0.528</td>\n",
       "      <td>0.368</td>\n",
       "      <td>0.879</td>\n",
       "      <td>2818</td>\n",
       "      <td>518</td>\n",
       "      <td>586</td>\n",
       "      <td>158</td>\n",
       "      <td>58</td>\n",
       "      <td>387</td>\n",
       "      <td>244</td>\n",
       "      <td>15.2</td>\n",
       "    </tr>\n",
       "    <tr>\n",
       "      <th>1</th>\n",
       "      <td>Paul George</td>\n",
       "      <td>SF</td>\n",
       "      <td>2841</td>\n",
       "      <td>0.438</td>\n",
       "      <td>0.484</td>\n",
       "      <td>0.386</td>\n",
       "      <td>0.839</td>\n",
       "      <td>2159</td>\n",
       "      <td>628</td>\n",
       "      <td>318</td>\n",
       "      <td>170</td>\n",
       "      <td>34</td>\n",
       "      <td>205</td>\n",
       "      <td>214</td>\n",
       "      <td>11.9</td>\n",
       "    </tr>\n",
       "    <tr>\n",
       "      <th>2</th>\n",
       "      <td>Damian Lillard</td>\n",
       "      <td>PG</td>\n",
       "      <td>2838</td>\n",
       "      <td>0.444</td>\n",
       "      <td>0.499</td>\n",
       "      <td>0.369</td>\n",
       "      <td>0.912</td>\n",
       "      <td>2067</td>\n",
       "      <td>371</td>\n",
       "      <td>551</td>\n",
       "      <td>88</td>\n",
       "      <td>34</td>\n",
       "      <td>212</td>\n",
       "      <td>148</td>\n",
       "      <td>12.1</td>\n",
       "    </tr>\n",
       "    <tr>\n",
       "      <th>3</th>\n",
       "      <td>Bradley Beal</td>\n",
       "      <td>SG</td>\n",
       "      <td>3028</td>\n",
       "      <td>0.475</td>\n",
       "      <td>0.548</td>\n",
       "      <td>0.351</td>\n",
       "      <td>0.808</td>\n",
       "      <td>2099</td>\n",
       "      <td>411</td>\n",
       "      <td>448</td>\n",
       "      <td>121</td>\n",
       "      <td>58</td>\n",
       "      <td>224</td>\n",
       "      <td>226</td>\n",
       "      <td>7.6</td>\n",
       "    </tr>\n",
       "    <tr>\n",
       "      <th>4</th>\n",
       "      <td>Kemba Walker</td>\n",
       "      <td>PG</td>\n",
       "      <td>2863</td>\n",
       "      <td>0.434</td>\n",
       "      <td>0.494</td>\n",
       "      <td>0.356</td>\n",
       "      <td>0.844</td>\n",
       "      <td>2102</td>\n",
       "      <td>361</td>\n",
       "      <td>484</td>\n",
       "      <td>102</td>\n",
       "      <td>34</td>\n",
       "      <td>211</td>\n",
       "      <td>131</td>\n",
       "      <td>7.4</td>\n",
       "    </tr>\n",
       "    <tr>\n",
       "      <th>5</th>\n",
       "      <td>Kevin Durant</td>\n",
       "      <td>SF</td>\n",
       "      <td>2702</td>\n",
       "      <td>0.521</td>\n",
       "      <td>0.587</td>\n",
       "      <td>0.353</td>\n",
       "      <td>0.885</td>\n",
       "      <td>2027</td>\n",
       "      <td>497</td>\n",
       "      <td>457</td>\n",
       "      <td>58</td>\n",
       "      <td>84</td>\n",
       "      <td>225</td>\n",
       "      <td>155</td>\n",
       "      <td>11.5</td>\n",
       "    </tr>\n",
       "    <tr>\n",
       "      <th>6</th>\n",
       "      <td>Blake Griffin</td>\n",
       "      <td>PF</td>\n",
       "      <td>2622</td>\n",
       "      <td>0.462</td>\n",
       "      <td>0.525</td>\n",
       "      <td>0.362</td>\n",
       "      <td>0.753</td>\n",
       "      <td>1841</td>\n",
       "      <td>565</td>\n",
       "      <td>402</td>\n",
       "      <td>52</td>\n",
       "      <td>28</td>\n",
       "      <td>253</td>\n",
       "      <td>199</td>\n",
       "      <td>8.0</td>\n",
       "    </tr>\n",
       "    <tr>\n",
       "      <th>7</th>\n",
       "      <td>Demar Derozan</td>\n",
       "      <td>SG</td>\n",
       "      <td>2688</td>\n",
       "      <td>0.481</td>\n",
       "      <td>0.492</td>\n",
       "      <td>0.156</td>\n",
       "      <td>0.830</td>\n",
       "      <td>1635</td>\n",
       "      <td>462</td>\n",
       "      <td>475</td>\n",
       "      <td>86</td>\n",
       "      <td>36</td>\n",
       "      <td>199</td>\n",
       "      <td>177</td>\n",
       "      <td>6.3</td>\n",
       "    </tr>\n",
       "    <tr>\n",
       "      <th>8</th>\n",
       "      <td>Russell Westbrook</td>\n",
       "      <td>PG</td>\n",
       "      <td>2630</td>\n",
       "      <td>0.428</td>\n",
       "      <td>0.481</td>\n",
       "      <td>0.290</td>\n",
       "      <td>0.656</td>\n",
       "      <td>1675</td>\n",
       "      <td>807</td>\n",
       "      <td>784</td>\n",
       "      <td>142</td>\n",
       "      <td>33</td>\n",
       "      <td>325</td>\n",
       "      <td>245</td>\n",
       "      <td>6.8</td>\n",
       "    </tr>\n",
       "    <tr>\n",
       "      <th>9</th>\n",
       "      <td>Donovan Mitchell</td>\n",
       "      <td>SG</td>\n",
       "      <td>2598</td>\n",
       "      <td>0.432</td>\n",
       "      <td>0.468</td>\n",
       "      <td>0.362</td>\n",
       "      <td>0.806</td>\n",
       "      <td>1829</td>\n",
       "      <td>316</td>\n",
       "      <td>322</td>\n",
       "      <td>106</td>\n",
       "      <td>31</td>\n",
       "      <td>218</td>\n",
       "      <td>208</td>\n",
       "      <td>5.0</td>\n",
       "    </tr>\n",
       "    <tr>\n",
       "      <th>10</th>\n",
       "      <td>Ben Simmons</td>\n",
       "      <td>PG</td>\n",
       "      <td>2700</td>\n",
       "      <td>0.563</td>\n",
       "      <td>0.566</td>\n",
       "      <td>0.000</td>\n",
       "      <td>0.600</td>\n",
       "      <td>1337</td>\n",
       "      <td>697</td>\n",
       "      <td>610</td>\n",
       "      <td>112</td>\n",
       "      <td>61</td>\n",
       "      <td>274</td>\n",
       "      <td>209</td>\n",
       "      <td>8.2</td>\n",
       "    </tr>\n",
       "  </tbody>\n",
       "</table>\n",
       "</div>"
      ],
      "text/plain": [
       "               player pos    mp  fg_pct  fg2_pct  fg3_pct  ft_pct   pts  trb  \\\n",
       "0        James Harden  PG  2867   0.442    0.528    0.368   0.879  2818  518   \n",
       "1         Paul George  SF  2841   0.438    0.484    0.386   0.839  2159  628   \n",
       "2      Damian Lillard  PG  2838   0.444    0.499    0.369   0.912  2067  371   \n",
       "3        Bradley Beal  SG  3028   0.475    0.548    0.351   0.808  2099  411   \n",
       "4        Kemba Walker  PG  2863   0.434    0.494    0.356   0.844  2102  361   \n",
       "5        Kevin Durant  SF  2702   0.521    0.587    0.353   0.885  2027  497   \n",
       "6       Blake Griffin  PF  2622   0.462    0.525    0.362   0.753  1841  565   \n",
       "7       Demar Derozan  SG  2688   0.481    0.492    0.156   0.830  1635  462   \n",
       "8   Russell Westbrook  PG  2630   0.428    0.481    0.290   0.656  1675  807   \n",
       "9    Donovan Mitchell  SG  2598   0.432    0.468    0.362   0.806  1829  316   \n",
       "10        Ben Simmons  PG  2700   0.563    0.566    0.000   0.600  1337  697   \n",
       "\n",
       "    ast  stl  blk  tov   pf    ws  \n",
       "0   586  158   58  387  244  15.2  \n",
       "1   318  170   34  205  214  11.9  \n",
       "2   551   88   34  212  148  12.1  \n",
       "3   448  121   58  224  226   7.6  \n",
       "4   484  102   34  211  131   7.4  \n",
       "5   457   58   84  225  155  11.5  \n",
       "6   402   52   28  253  199   8.0  \n",
       "7   475   86   36  199  177   6.3  \n",
       "8   784  142   33  325  245   6.8  \n",
       "9   322  106   31  218  208   5.0  \n",
       "10  610  112   61  274  209   8.2  "
      ]
     },
     "execution_count": 237,
     "metadata": {},
     "output_type": "execute_result"
    }
   ],
   "source": [
    "neighbors = rec_similar_players()\n",
    "neighbors"
   ]
  },
  {
   "cell_type": "code",
   "execution_count": 235,
   "metadata": {},
   "outputs": [
    {
     "data": {
      "text/html": [
       "<div>\n",
       "<style scoped>\n",
       "    .dataframe tbody tr th:only-of-type {\n",
       "        vertical-align: middle;\n",
       "    }\n",
       "\n",
       "    .dataframe tbody tr th {\n",
       "        vertical-align: top;\n",
       "    }\n",
       "\n",
       "    .dataframe thead th {\n",
       "        text-align: right;\n",
       "    }\n",
       "</style>\n",
       "<table border=\"1\" class=\"dataframe\">\n",
       "  <thead>\n",
       "    <tr style=\"text-align: right;\">\n",
       "      <th></th>\n",
       "      <th>player</th>\n",
       "      <th>pos</th>\n",
       "      <th>mp</th>\n",
       "      <th>fg_pct</th>\n",
       "      <th>fg2_pct</th>\n",
       "      <th>fg3_pct</th>\n",
       "      <th>ft_pct</th>\n",
       "      <th>pts</th>\n",
       "      <th>trb</th>\n",
       "      <th>ast</th>\n",
       "      <th>stl</th>\n",
       "      <th>blk</th>\n",
       "      <th>tov</th>\n",
       "      <th>pf</th>\n",
       "      <th>ws</th>\n",
       "      <th>projected_ws</th>\n",
       "    </tr>\n",
       "  </thead>\n",
       "  <tbody>\n",
       "    <tr>\n",
       "      <th>0</th>\n",
       "      <td>James Harden</td>\n",
       "      <td>PG</td>\n",
       "      <td>2867</td>\n",
       "      <td>0.442</td>\n",
       "      <td>0.528</td>\n",
       "      <td>0.368</td>\n",
       "      <td>0.879</td>\n",
       "      <td>2818</td>\n",
       "      <td>518</td>\n",
       "      <td>586</td>\n",
       "      <td>158</td>\n",
       "      <td>58</td>\n",
       "      <td>387</td>\n",
       "      <td>244</td>\n",
       "      <td>15.2</td>\n",
       "      <td>27.628349</td>\n",
       "    </tr>\n",
       "    <tr>\n",
       "      <th>1</th>\n",
       "      <td>Paul George</td>\n",
       "      <td>SF</td>\n",
       "      <td>2841</td>\n",
       "      <td>0.438</td>\n",
       "      <td>0.484</td>\n",
       "      <td>0.386</td>\n",
       "      <td>0.839</td>\n",
       "      <td>2159</td>\n",
       "      <td>628</td>\n",
       "      <td>318</td>\n",
       "      <td>170</td>\n",
       "      <td>34</td>\n",
       "      <td>205</td>\n",
       "      <td>214</td>\n",
       "      <td>11.9</td>\n",
       "      <td>21.253915</td>\n",
       "    </tr>\n",
       "    <tr>\n",
       "      <th>2</th>\n",
       "      <td>Damian Lillard</td>\n",
       "      <td>PG</td>\n",
       "      <td>2838</td>\n",
       "      <td>0.444</td>\n",
       "      <td>0.499</td>\n",
       "      <td>0.369</td>\n",
       "      <td>0.912</td>\n",
       "      <td>2067</td>\n",
       "      <td>371</td>\n",
       "      <td>551</td>\n",
       "      <td>88</td>\n",
       "      <td>34</td>\n",
       "      <td>212</td>\n",
       "      <td>148</td>\n",
       "      <td>12.1</td>\n",
       "      <td>20.163179</td>\n",
       "    </tr>\n",
       "    <tr>\n",
       "      <th>3</th>\n",
       "      <td>Bradley Beal</td>\n",
       "      <td>SG</td>\n",
       "      <td>3028</td>\n",
       "      <td>0.475</td>\n",
       "      <td>0.548</td>\n",
       "      <td>0.351</td>\n",
       "      <td>0.808</td>\n",
       "      <td>2099</td>\n",
       "      <td>411</td>\n",
       "      <td>448</td>\n",
       "      <td>121</td>\n",
       "      <td>58</td>\n",
       "      <td>224</td>\n",
       "      <td>226</td>\n",
       "      <td>7.6</td>\n",
       "      <td>18.169216</td>\n",
       "    </tr>\n",
       "    <tr>\n",
       "      <th>4</th>\n",
       "      <td>Kemba Walker</td>\n",
       "      <td>PG</td>\n",
       "      <td>2863</td>\n",
       "      <td>0.434</td>\n",
       "      <td>0.494</td>\n",
       "      <td>0.356</td>\n",
       "      <td>0.844</td>\n",
       "      <td>2102</td>\n",
       "      <td>361</td>\n",
       "      <td>484</td>\n",
       "      <td>102</td>\n",
       "      <td>34</td>\n",
       "      <td>211</td>\n",
       "      <td>131</td>\n",
       "      <td>7.4</td>\n",
       "      <td>17.155297</td>\n",
       "    </tr>\n",
       "    <tr>\n",
       "      <th>5</th>\n",
       "      <td>Kevin Durant</td>\n",
       "      <td>SF</td>\n",
       "      <td>2702</td>\n",
       "      <td>0.521</td>\n",
       "      <td>0.587</td>\n",
       "      <td>0.353</td>\n",
       "      <td>0.885</td>\n",
       "      <td>2027</td>\n",
       "      <td>497</td>\n",
       "      <td>457</td>\n",
       "      <td>58</td>\n",
       "      <td>84</td>\n",
       "      <td>225</td>\n",
       "      <td>155</td>\n",
       "      <td>11.5</td>\n",
       "      <td>21.049306</td>\n",
       "    </tr>\n",
       "    <tr>\n",
       "      <th>6</th>\n",
       "      <td>Blake Griffin</td>\n",
       "      <td>PF</td>\n",
       "      <td>2622</td>\n",
       "      <td>0.462</td>\n",
       "      <td>0.525</td>\n",
       "      <td>0.362</td>\n",
       "      <td>0.753</td>\n",
       "      <td>1841</td>\n",
       "      <td>565</td>\n",
       "      <td>402</td>\n",
       "      <td>52</td>\n",
       "      <td>28</td>\n",
       "      <td>253</td>\n",
       "      <td>199</td>\n",
       "      <td>8.0</td>\n",
       "      <td>15.841684</td>\n",
       "    </tr>\n",
       "    <tr>\n",
       "      <th>7</th>\n",
       "      <td>Russell Westbrook</td>\n",
       "      <td>PG</td>\n",
       "      <td>2630</td>\n",
       "      <td>0.428</td>\n",
       "      <td>0.481</td>\n",
       "      <td>0.290</td>\n",
       "      <td>0.656</td>\n",
       "      <td>1675</td>\n",
       "      <td>807</td>\n",
       "      <td>784</td>\n",
       "      <td>142</td>\n",
       "      <td>33</td>\n",
       "      <td>325</td>\n",
       "      <td>245</td>\n",
       "      <td>6.8</td>\n",
       "      <td>16.255561</td>\n",
       "    </tr>\n",
       "    <tr>\n",
       "      <th>8</th>\n",
       "      <td>Donovan Mitchell</td>\n",
       "      <td>SG</td>\n",
       "      <td>2598</td>\n",
       "      <td>0.432</td>\n",
       "      <td>0.468</td>\n",
       "      <td>0.362</td>\n",
       "      <td>0.806</td>\n",
       "      <td>1829</td>\n",
       "      <td>316</td>\n",
       "      <td>322</td>\n",
       "      <td>106</td>\n",
       "      <td>31</td>\n",
       "      <td>218</td>\n",
       "      <td>208</td>\n",
       "      <td>5.0</td>\n",
       "      <td>11.514747</td>\n",
       "    </tr>\n",
       "    <tr>\n",
       "      <th>9</th>\n",
       "      <td>Ben Simmons</td>\n",
       "      <td>PG</td>\n",
       "      <td>2700</td>\n",
       "      <td>0.563</td>\n",
       "      <td>0.566</td>\n",
       "      <td>0.000</td>\n",
       "      <td>0.600</td>\n",
       "      <td>1337</td>\n",
       "      <td>697</td>\n",
       "      <td>610</td>\n",
       "      <td>112</td>\n",
       "      <td>61</td>\n",
       "      <td>274</td>\n",
       "      <td>209</td>\n",
       "      <td>8.2</td>\n",
       "      <td>16.747472</td>\n",
       "    </tr>\n",
       "  </tbody>\n",
       "</table>\n",
       "</div>"
      ],
      "text/plain": [
       "              player pos    mp  fg_pct  fg2_pct  fg3_pct  ft_pct   pts  trb  \\\n",
       "0       James Harden  PG  2867   0.442    0.528    0.368   0.879  2818  518   \n",
       "1        Paul George  SF  2841   0.438    0.484    0.386   0.839  2159  628   \n",
       "2     Damian Lillard  PG  2838   0.444    0.499    0.369   0.912  2067  371   \n",
       "3       Bradley Beal  SG  3028   0.475    0.548    0.351   0.808  2099  411   \n",
       "4       Kemba Walker  PG  2863   0.434    0.494    0.356   0.844  2102  361   \n",
       "5       Kevin Durant  SF  2702   0.521    0.587    0.353   0.885  2027  497   \n",
       "6      Blake Griffin  PF  2622   0.462    0.525    0.362   0.753  1841  565   \n",
       "7  Russell Westbrook  PG  2630   0.428    0.481    0.290   0.656  1675  807   \n",
       "8   Donovan Mitchell  SG  2598   0.432    0.468    0.362   0.806  1829  316   \n",
       "9        Ben Simmons  PG  2700   0.563    0.566    0.000   0.600  1337  697   \n",
       "\n",
       "   ast  stl  blk  tov   pf    ws  projected_ws  \n",
       "0  586  158   58  387  244  15.2     27.628349  \n",
       "1  318  170   34  205  214  11.9     21.253915  \n",
       "2  551   88   34  212  148  12.1     20.163179  \n",
       "3  448  121   58  224  226   7.6     18.169216  \n",
       "4  484  102   34  211  131   7.4     17.155297  \n",
       "5  457   58   84  225  155  11.5     21.049306  \n",
       "6  402   52   28  253  199   8.0     15.841684  \n",
       "7  784  142   33  325  245   6.8     16.255561  \n",
       "8  322  106   31  218  208   5.0     11.514747  \n",
       "9  610  112   61  274  209   8.2     16.747472  "
      ]
     },
     "execution_count": 235,
     "metadata": {},
     "output_type": "execute_result"
    }
   ],
   "source": [
    "projections = pd.read_pickle('win_share_projections.pickle')\n",
    "neighbors.merge(projections[projections.season==2019][['player','projected_ws']], on = ['player'])"
   ]
  },
  {
   "cell_type": "code",
   "execution_count": null,
   "metadata": {},
   "outputs": [],
   "source": []
  }
 ],
 "metadata": {
  "kernelspec": {
   "display_name": "Python 3",
   "language": "python",
   "name": "python3"
  },
  "language_info": {
   "codemirror_mode": {
    "name": "ipython",
    "version": 3
   },
   "file_extension": ".py",
   "mimetype": "text/x-python",
   "name": "python",
   "nbconvert_exporter": "python",
   "pygments_lexer": "ipython3",
   "version": "3.7.3"
  },
  "toc": {
   "base_numbering": 1,
   "nav_menu": {},
   "number_sections": true,
   "sideBar": true,
   "skip_h1_title": false,
   "title_cell": "Table of Contents",
   "title_sidebar": "Contents",
   "toc_cell": false,
   "toc_position": {},
   "toc_section_display": true,
   "toc_window_display": false
  }
 },
 "nbformat": 4,
 "nbformat_minor": 2
}
