{
 "cells": [
  {
   "cell_type": "code",
   "execution_count": 370,
   "metadata": {},
   "outputs": [],
   "source": [
    "import pandas as pd\n",
    "import pickle\n",
    "from tqdm import tqdm\n",
    "import requests\n",
    "from bs4 import BeautifulSoup\n",
    "import time\n",
    "\n",
    "import warnings\n",
    "warnings.filterwarnings('ignore')"
   ]
  },
  {
   "cell_type": "code",
   "execution_count": 6,
   "metadata": {},
   "outputs": [],
   "source": [
    "pd.set_option('display.max_columns', 100)"
   ]
  },
  {
   "cell_type": "code",
   "execution_count": 242,
   "metadata": {},
   "outputs": [],
   "source": [
    "def getAndParseUrl(url):\n",
    "    results = requests.get(url)\n",
    "    time.sleep(1)\n",
    "    soup = BeautifulSoup(results.text, 'html.parser')\n",
    "    return soup"
   ]
  },
  {
   "cell_type": "code",
   "execution_count": 335,
   "metadata": {},
   "outputs": [],
   "source": [
    "def get_stats_and_positions():\n",
    "    df = pd.DataFrame()\n",
    "    for i in tqdm(range(1950,2020,1)):\n",
    "        table1 = pd.read_html(f'https://www.basketball-reference.com/leagues/NBA_{i}_totals.html')\n",
    "        table2 = pd.read_html(f'https://www.basketball-reference.com/leagues/NBA_{i}_advanced.html')\n",
    "        \n",
    "        soup1 = getAndParseUrl(f'https://www.basketball-reference.com/leagues/NBA_{i}_totals.html')\n",
    "        soup2 = getAndParseUrl(f'https://www.basketball-reference.com/leagues/NBA_{i}_advanced.html')\n",
    "        \n",
    "        pid1 = [tag.attrs['data-append-csv'] for tag in [td for td in soup1.select('td') if td.attrs['data-stat']=='player']]\n",
    "        pid2 = [tag.attrs['data-append-csv'] for tag in [td for td in soup2.select('td') if td.attrs['data-stat']=='player']]\n",
    "        \n",
    "        table1[0] = table1[0][table1[0].Player != 'Player']\n",
    "        table2[0] = table2[0][table2[0].Player != 'Player']\n",
    "        \n",
    "        table1[0]['pid'] = pid1\n",
    "        table2[0]['pid'] = pid2\n",
    "        \n",
    "        table2[0] = table2[0].drop(['Player', 'Rk', 'Pos', 'Age', 'G', 'MP', 'Unnamed: 19', 'Unnamed: 24'], axis=1)\n",
    "        \n",
    "        stats_df = table1[0].merge(table2[0], on=['pid', 'Tm'], how='left')\n",
    "        stats_df['season'] = i\n",
    "        \n",
    "        df = pd.concat([df,stats_df])\n",
    "        \n",
    "        df.to_pickle('df_1950to2019_stats.pickle')\n",
    "        \n",
    "    return df[df.Player != 'Player']"
   ]
  },
  {
   "cell_type": "code",
   "execution_count": 336,
   "metadata": {},
   "outputs": [
    {
     "name": "stderr",
     "output_type": "stream",
     "text": [
      "100%|██████████| 70/70 [10:06<00:00, 11.49s/it]\n"
     ]
    }
   ],
   "source": [
    "df = get_stats_and_positions()"
   ]
  },
  {
   "cell_type": "code",
   "execution_count": 103,
   "metadata": {},
   "outputs": [],
   "source": [
    "df.columns = [col.lower().replace('%','_pct') for col in df.columns]"
   ]
  },
  {
   "cell_type": "code",
   "execution_count": 105,
   "metadata": {},
   "outputs": [],
   "source": [
    "# https://help.yahoo.com/kb/fantasy-basketball/default-league-settings-fantasy-basketball-sln6919.html\n",
    "# yahoo's fantasy scoring system\n",
    "pts = 1\n",
    "reb = 1.2\n",
    "ast = 1.5\n",
    "blk = 3\n",
    "stl = 3\n",
    "tov = -1"
   ]
  },
  {
   "cell_type": "code",
   "execution_count": 106,
   "metadata": {},
   "outputs": [],
   "source": [
    "df.player = [player.strip('*') for player in df.player]"
   ]
  },
  {
   "cell_type": "code",
   "execution_count": 378,
   "metadata": {},
   "outputs": [],
   "source": [
    "df.to_pickle('df_1950to2019_stats.pickle')"
   ]
  },
  {
   "cell_type": "code",
   "execution_count": null,
   "metadata": {},
   "outputs": [],
   "source": []
  }
 ],
 "metadata": {
  "kernelspec": {
   "display_name": "Python 3",
   "language": "python",
   "name": "python3"
  },
  "language_info": {
   "codemirror_mode": {
    "name": "ipython",
    "version": 3
   },
   "file_extension": ".py",
   "mimetype": "text/x-python",
   "name": "python",
   "nbconvert_exporter": "python",
   "pygments_lexer": "ipython3",
   "version": "3.7.3"
  }
 },
 "nbformat": 4,
 "nbformat_minor": 2
}
