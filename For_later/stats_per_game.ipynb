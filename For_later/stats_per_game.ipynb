{
 "cells": [
  {
   "cell_type": "code",
   "execution_count": 96,
   "metadata": {},
   "outputs": [],
   "source": [
    "import requests\n",
    "from bs4 import BeautifulSoup\n",
    "import pandas as pd\n",
    "import matplotlib.pyplot as plt\n",
    "import time\n",
    "from tqdm import tqdm\n",
    "import pickle\n",
    "import seaborn as sns"
   ]
  },
  {
   "cell_type": "code",
   "execution_count": 81,
   "metadata": {},
   "outputs": [],
   "source": [
    "pd.set_option('display.max_columns', 100)"
   ]
  },
  {
   "cell_type": "markdown",
   "metadata": {},
   "source": [
    "# Scrape data"
   ]
  },
  {
   "cell_type": "code",
   "execution_count": 82,
   "metadata": {},
   "outputs": [],
   "source": [
    "def getAndParseUrl(url):\n",
    "    results = requests.get(url)\n",
    "    time.sleep(1)\n",
    "    soup = BeautifulSoup(results.text, 'html.parser')\n",
    "    return soup"
   ]
  },
  {
   "cell_type": "code",
   "execution_count": 152,
   "metadata": {},
   "outputs": [],
   "source": [
    "# this url is for all players between 2014 and 2019 with a PER >= 0\n",
    "url1 = 'https://www.basketball-reference.com/play-index/psl_finder.cgi?request=1&match=single&type=per_game&per_minute_base=36&per_poss_base=100&lg_id=NBA&is_playoffs=N&year_min=2015&year_max=2019&franch_id=&season_start=1&season_end=-1&age_min=0&age_max=99&shoot_hand=&height_min=0&height_max=99&birth_country_is=Y&birth_country=&birth_state=&college_id=&draft_year=&is_active=&debut_yr_nba_start=&debut_yr_nba_end=&is_hof=&is_as=&as_comp=gt&as_val=0&award=&pos_is_g=Y&pos_is_gf=Y&pos_is_f=Y&pos_is_fg=Y&pos_is_fc=Y&pos_is_c=Y&pos_is_cf=Y&qual=&c1stat=per&c1comp=gt&c1val=0&c2stat=&c2comp=&c2val=&c3stat=&c3comp=&c3val=&c4stat=&c4comp=&c4val=&c5stat=&c5comp=&c6mult=&c6stat=&order_by=season&order_by_asc=&offset='"
   ]
  },
  {
   "cell_type": "code",
   "execution_count": 153,
   "metadata": {},
   "outputs": [],
   "source": [
    "# this url is for all players between 2014 and 2019 with a PER <=0\n",
    "url2 = 'https://www.basketball-reference.com/play-index/psl_finder.cgi?request=1&match=single&type=per_game&per_minute_base=36&per_poss_base=100&season_start=1&season_end=-1&lg_id=NBA&age_min=0&age_max=99&is_playoffs=N&height_min=0&height_max=99&year_min=2015&year_max=2019&birth_country_is=Y&as_comp=gt&as_val=0&pos_is_g=Y&pos_is_gf=Y&pos_is_f=Y&pos_is_fg=Y&pos_is_fc=Y&pos_is_c=Y&pos_is_cf=Y&c1stat=per&c1comp=lt&c1val=0&order_by=season&order_by_asc=&offset='"
   ]
  },
  {
   "cell_type": "code",
   "execution_count": 441,
   "metadata": {},
   "outputs": [],
   "source": [
    "def get_players(url): # function to grab every player and his stats from the page as a dictionary, and store as list\n",
    "    \n",
    "    # player dictionaries container\n",
    "    players = []\n",
    "    \n",
    "    # loop through each page(for this website, each page is accessed by 'offset={some multiple of 100}')\n",
    "    # last page is offset=2500\n",
    "    for i in tqdm(range(0,3000,100)):\n",
    "        url = url+str(i)\n",
    "        soup = getAndParseUrl(url)\n",
    "        \n",
    "        # select each td tag under tr tag: each td tag in player_soup is a player's stat, all stored as a list\n",
    "        player_soup = soup.select('tr td')\n",
    "        \n",
    "        # create slicing points to group the 33 elements(html tags/columns) into single list(player)\n",
    "        j=0\n",
    "        k=32\n",
    "        \n",
    "        # there are a 100 players per page, 31 stats per player == 3100 elements in player_soup (except last page)\n",
    "        # len(player_soup) gives the number of stats on each page\n",
    "        # divide that by 31 to get number of players per page\n",
    "        for i in range(int(len(player_soup)/32)):\n",
    "            \n",
    "            # each player container (player with stats)\n",
    "            each_player = {}\n",
    "            \n",
    "            # p is a single player with stats sliced from player_soup\n",
    "            p = player_soup[j:k]\n",
    "            \n",
    "            #loop through p to create dictionary of each player\n",
    "            for stat in p:\n",
    "                # set each stat equal to the tag text (i.e. pts_per_g = 15.4)\n",
    "                each_player[stat.attrs['data-stat']] = stat.text\n",
    "            \n",
    "            # add each player dictionary to the players container\n",
    "            players.append(each_player)\n",
    "            \n",
    "            # move slicer to next player\n",
    "            j+=32\n",
    "            k+=32\n",
    "\n",
    "        next_pg_checker = soup.select('p a[href]')\n",
    "        if 'Next page' not in [c.text for c in next_pg_checker]:\n",
    "            break\n",
    "        else: continue\n",
    "        \n",
    "    return players"
   ]
  },
  {
   "cell_type": "code",
   "execution_count": 135,
   "metadata": {},
   "outputs": [
    {
     "name": "stderr",
     "output_type": "stream",
     "text": [
      "100%|██████████| 26/26 [00:55<00:00,  2.04s/it]\n"
     ]
    }
   ],
   "source": [
    "players=get_players(url1)"
   ]
  },
  {
   "cell_type": "code",
   "execution_count": 155,
   "metadata": {
    "scrolled": true
   },
   "outputs": [
    {
     "data": {
      "text/plain": [
       "2473"
      ]
     },
     "execution_count": 155,
     "metadata": {},
     "output_type": "execute_result"
    }
   ],
   "source": [
    "# check to see if all player dicts were created\n",
    "len(players)\n",
    "\n",
    "# THEY WERE"
   ]
  },
  {
   "cell_type": "code",
   "execution_count": 156,
   "metadata": {},
   "outputs": [
    {
     "name": "stderr",
     "output_type": "stream",
     "text": [
      "  0%|          | 0/26 [00:00<?, ?it/s]\n"
     ]
    }
   ],
   "source": [
    "players.extend(get_players(url2))"
   ]
  },
  {
   "cell_type": "code",
   "execution_count": 159,
   "metadata": {},
   "outputs": [],
   "source": [
    "# save the players as a pickle\n",
    "with open('players.pickle', 'wb') as outfile:\n",
    "    pickle.dump(players, outfile)\n",
    "\n",
    "outfile.close()"
   ]
  },
  {
   "cell_type": "markdown",
   "metadata": {},
   "source": [
    "# Setting up the dataframe"
   ]
  },
  {
   "cell_type": "markdown",
   "metadata": {},
   "source": [
    "## NBA dataframe"
   ]
  },
  {
   "cell_type": "code",
   "execution_count": 160,
   "metadata": {},
   "outputs": [],
   "source": [
    "# make a dataframe of all players and stats\n",
    "df = pd.DataFrame(players, columns = players[0].keys())"
   ]
  },
  {
   "cell_type": "markdown",
   "metadata": {},
   "source": [
    "##### change dtypes for columns with numerical data from str to int or float\n"
   ]
  },
  {
   "cell_type": "code",
   "execution_count": 161,
   "metadata": {
    "scrolled": true
   },
   "outputs": [],
   "source": [
    "cols = list(players[0].keys())"
   ]
  },
  {
   "cell_type": "code",
   "execution_count": 162,
   "metadata": {},
   "outputs": [],
   "source": [
    "df.age = df.age.astype(int)"
   ]
  },
  {
   "cell_type": "code",
   "execution_count": 168,
   "metadata": {},
   "outputs": [],
   "source": [
    "df.per = df.per.astype(float)"
   ]
  },
  {
   "cell_type": "code",
   "execution_count": 174,
   "metadata": {},
   "outputs": [],
   "source": [
    "for i in range(6,len(cols)):\n",
    "    df[cols[i]] = pd.to_numeric(df[cols[i]])"
   ]
  },
  {
   "cell_type": "code",
   "execution_count": 183,
   "metadata": {},
   "outputs": [],
   "source": [
    "df = df.sort_values(by=['player','season']).reset_index().drop('index',axis=1)"
   ]
  },
  {
   "cell_type": "code",
   "execution_count": 225,
   "metadata": {},
   "outputs": [
    {
     "data": {
      "text/html": [
       "<div>\n",
       "<style scoped>\n",
       "    .dataframe tbody tr th:only-of-type {\n",
       "        vertical-align: middle;\n",
       "    }\n",
       "\n",
       "    .dataframe tbody tr th {\n",
       "        vertical-align: top;\n",
       "    }\n",
       "\n",
       "    .dataframe thead th {\n",
       "        text-align: right;\n",
       "    }\n",
       "</style>\n",
       "<table border=\"1\" class=\"dataframe\">\n",
       "  <thead>\n",
       "    <tr style=\"text-align: right;\">\n",
       "      <th></th>\n",
       "      <th>player</th>\n",
       "      <th>age</th>\n",
       "      <th>team_id</th>\n",
       "      <th>lg_id</th>\n",
       "      <th>per</th>\n",
       "      <th>season</th>\n",
       "      <th>g</th>\n",
       "      <th>gs</th>\n",
       "      <th>mp_per_g</th>\n",
       "      <th>fg_per_g</th>\n",
       "      <th>fga_per_g</th>\n",
       "      <th>fg2_per_g</th>\n",
       "      <th>fg2a_per_g</th>\n",
       "      <th>fg3_per_g</th>\n",
       "      <th>fg3a_per_g</th>\n",
       "      <th>ft_per_g</th>\n",
       "      <th>fta_per_g</th>\n",
       "      <th>orb_per_g</th>\n",
       "      <th>drb_per_g</th>\n",
       "      <th>trb_per_g</th>\n",
       "      <th>ast_per_g</th>\n",
       "      <th>stl_per_g</th>\n",
       "      <th>blk_per_g</th>\n",
       "      <th>tov_per_g</th>\n",
       "      <th>pf_per_g</th>\n",
       "      <th>pts_per_g</th>\n",
       "      <th>fg_pct</th>\n",
       "      <th>fg2_pct</th>\n",
       "      <th>fg3_pct</th>\n",
       "      <th>efg_pct</th>\n",
       "      <th>ft_pct</th>\n",
       "      <th>ts_pct</th>\n",
       "    </tr>\n",
       "  </thead>\n",
       "  <tbody>\n",
       "    <tr>\n",
       "      <th>0</th>\n",
       "      <td>A.J. Hammons</td>\n",
       "      <td>24</td>\n",
       "      <td>DAL</td>\n",
       "      <td>NBA</td>\n",
       "      <td>8.4</td>\n",
       "      <td>2016-17</td>\n",
       "      <td>22</td>\n",
       "      <td>0</td>\n",
       "      <td>7.4</td>\n",
       "      <td>0.8</td>\n",
       "      <td>1.9</td>\n",
       "      <td>0.5</td>\n",
       "      <td>1.5</td>\n",
       "      <td>0.2</td>\n",
       "      <td>0.5</td>\n",
       "      <td>0.4</td>\n",
       "      <td>0.9</td>\n",
       "      <td>0.4</td>\n",
       "      <td>1.3</td>\n",
       "      <td>1.6</td>\n",
       "      <td>0.2</td>\n",
       "      <td>0.0</td>\n",
       "      <td>0.6</td>\n",
       "      <td>0.5</td>\n",
       "      <td>1.0</td>\n",
       "      <td>2.2</td>\n",
       "      <td>0.405</td>\n",
       "      <td>0.375</td>\n",
       "      <td>0.500</td>\n",
       "      <td>0.464</td>\n",
       "      <td>0.450</td>\n",
       "      <td>0.472</td>\n",
       "    </tr>\n",
       "    <tr>\n",
       "      <th>1</th>\n",
       "      <td>A.J. Price</td>\n",
       "      <td>28</td>\n",
       "      <td>TOT</td>\n",
       "      <td>NBA</td>\n",
       "      <td>12.0</td>\n",
       "      <td>2014-15</td>\n",
       "      <td>26</td>\n",
       "      <td>0</td>\n",
       "      <td>12.5</td>\n",
       "      <td>2.0</td>\n",
       "      <td>5.3</td>\n",
       "      <td>1.4</td>\n",
       "      <td>3.1</td>\n",
       "      <td>0.6</td>\n",
       "      <td>2.2</td>\n",
       "      <td>0.6</td>\n",
       "      <td>0.9</td>\n",
       "      <td>0.2</td>\n",
       "      <td>1.0</td>\n",
       "      <td>1.2</td>\n",
       "      <td>1.8</td>\n",
       "      <td>0.3</td>\n",
       "      <td>0.0</td>\n",
       "      <td>0.5</td>\n",
       "      <td>0.6</td>\n",
       "      <td>5.1</td>\n",
       "      <td>0.372</td>\n",
       "      <td>0.450</td>\n",
       "      <td>0.263</td>\n",
       "      <td>0.427</td>\n",
       "      <td>0.667</td>\n",
       "      <td>0.451</td>\n",
       "    </tr>\n",
       "    <tr>\n",
       "      <th>2</th>\n",
       "      <td>Aaron Brooks</td>\n",
       "      <td>30</td>\n",
       "      <td>CHI</td>\n",
       "      <td>NBA</td>\n",
       "      <td>14.4</td>\n",
       "      <td>2014-15</td>\n",
       "      <td>82</td>\n",
       "      <td>21</td>\n",
       "      <td>23.0</td>\n",
       "      <td>4.2</td>\n",
       "      <td>10.0</td>\n",
       "      <td>2.7</td>\n",
       "      <td>6.1</td>\n",
       "      <td>1.5</td>\n",
       "      <td>3.8</td>\n",
       "      <td>1.8</td>\n",
       "      <td>2.1</td>\n",
       "      <td>0.4</td>\n",
       "      <td>1.6</td>\n",
       "      <td>2.0</td>\n",
       "      <td>3.2</td>\n",
       "      <td>0.7</td>\n",
       "      <td>0.2</td>\n",
       "      <td>1.9</td>\n",
       "      <td>2.3</td>\n",
       "      <td>11.6</td>\n",
       "      <td>0.421</td>\n",
       "      <td>0.442</td>\n",
       "      <td>0.387</td>\n",
       "      <td>0.495</td>\n",
       "      <td>0.833</td>\n",
       "      <td>0.534</td>\n",
       "    </tr>\n",
       "    <tr>\n",
       "      <th>3</th>\n",
       "      <td>Aaron Brooks</td>\n",
       "      <td>31</td>\n",
       "      <td>CHI</td>\n",
       "      <td>NBA</td>\n",
       "      <td>11.8</td>\n",
       "      <td>2015-16</td>\n",
       "      <td>69</td>\n",
       "      <td>0</td>\n",
       "      <td>16.1</td>\n",
       "      <td>2.7</td>\n",
       "      <td>6.8</td>\n",
       "      <td>1.8</td>\n",
       "      <td>4.1</td>\n",
       "      <td>1.0</td>\n",
       "      <td>2.7</td>\n",
       "      <td>0.7</td>\n",
       "      <td>0.9</td>\n",
       "      <td>0.3</td>\n",
       "      <td>1.2</td>\n",
       "      <td>1.5</td>\n",
       "      <td>2.6</td>\n",
       "      <td>0.4</td>\n",
       "      <td>0.1</td>\n",
       "      <td>1.2</td>\n",
       "      <td>1.9</td>\n",
       "      <td>7.1</td>\n",
       "      <td>0.401</td>\n",
       "      <td>0.430</td>\n",
       "      <td>0.357</td>\n",
       "      <td>0.471</td>\n",
       "      <td>0.766</td>\n",
       "      <td>0.494</td>\n",
       "    </tr>\n",
       "    <tr>\n",
       "      <th>4</th>\n",
       "      <td>Aaron Brooks</td>\n",
       "      <td>32</td>\n",
       "      <td>IND</td>\n",
       "      <td>NBA</td>\n",
       "      <td>9.5</td>\n",
       "      <td>2016-17</td>\n",
       "      <td>65</td>\n",
       "      <td>0</td>\n",
       "      <td>13.8</td>\n",
       "      <td>1.9</td>\n",
       "      <td>4.6</td>\n",
       "      <td>1.1</td>\n",
       "      <td>2.6</td>\n",
       "      <td>0.7</td>\n",
       "      <td>2.0</td>\n",
       "      <td>0.5</td>\n",
       "      <td>0.6</td>\n",
       "      <td>0.3</td>\n",
       "      <td>0.8</td>\n",
       "      <td>1.1</td>\n",
       "      <td>1.9</td>\n",
       "      <td>0.4</td>\n",
       "      <td>0.1</td>\n",
       "      <td>1.0</td>\n",
       "      <td>1.4</td>\n",
       "      <td>5.0</td>\n",
       "      <td>0.403</td>\n",
       "      <td>0.424</td>\n",
       "      <td>0.375</td>\n",
       "      <td>0.483</td>\n",
       "      <td>0.800</td>\n",
       "      <td>0.507</td>\n",
       "    </tr>\n",
       "  </tbody>\n",
       "</table>\n",
       "</div>"
      ],
      "text/plain": [
       "         player  age team_id lg_id   per   season   g  gs  mp_per_g  fg_per_g  \\\n",
       "0  A.J. Hammons   24     DAL   NBA   8.4  2016-17  22   0       7.4       0.8   \n",
       "1    A.J. Price   28     TOT   NBA  12.0  2014-15  26   0      12.5       2.0   \n",
       "2  Aaron Brooks   30     CHI   NBA  14.4  2014-15  82  21      23.0       4.2   \n",
       "3  Aaron Brooks   31     CHI   NBA  11.8  2015-16  69   0      16.1       2.7   \n",
       "4  Aaron Brooks   32     IND   NBA   9.5  2016-17  65   0      13.8       1.9   \n",
       "\n",
       "   fga_per_g  fg2_per_g  fg2a_per_g  fg3_per_g  fg3a_per_g  ft_per_g  \\\n",
       "0        1.9        0.5         1.5        0.2         0.5       0.4   \n",
       "1        5.3        1.4         3.1        0.6         2.2       0.6   \n",
       "2       10.0        2.7         6.1        1.5         3.8       1.8   \n",
       "3        6.8        1.8         4.1        1.0         2.7       0.7   \n",
       "4        4.6        1.1         2.6        0.7         2.0       0.5   \n",
       "\n",
       "   fta_per_g  orb_per_g  drb_per_g  trb_per_g  ast_per_g  stl_per_g  \\\n",
       "0        0.9        0.4        1.3        1.6        0.2        0.0   \n",
       "1        0.9        0.2        1.0        1.2        1.8        0.3   \n",
       "2        2.1        0.4        1.6        2.0        3.2        0.7   \n",
       "3        0.9        0.3        1.2        1.5        2.6        0.4   \n",
       "4        0.6        0.3        0.8        1.1        1.9        0.4   \n",
       "\n",
       "   blk_per_g  tov_per_g  pf_per_g  pts_per_g  fg_pct  fg2_pct  fg3_pct  \\\n",
       "0        0.6        0.5       1.0        2.2   0.405    0.375    0.500   \n",
       "1        0.0        0.5       0.6        5.1   0.372    0.450    0.263   \n",
       "2        0.2        1.9       2.3       11.6   0.421    0.442    0.387   \n",
       "3        0.1        1.2       1.9        7.1   0.401    0.430    0.357   \n",
       "4        0.1        1.0       1.4        5.0   0.403    0.424    0.375   \n",
       "\n",
       "   efg_pct  ft_pct  ts_pct  \n",
       "0    0.464   0.450   0.472  \n",
       "1    0.427   0.667   0.451  \n",
       "2    0.495   0.833   0.534  \n",
       "3    0.471   0.766   0.494  \n",
       "4    0.483   0.800   0.507  "
      ]
     },
     "execution_count": 225,
     "metadata": {},
     "output_type": "execute_result"
    }
   ],
   "source": [
    "df.head()"
   ]
  },
  {
   "cell_type": "code",
   "execution_count": 429,
   "metadata": {},
   "outputs": [],
   "source": [
    "# saving nba df as json file\n",
    "df.to_json('nba_df.json')"
   ]
  },
  {
   "cell_type": "markdown",
   "metadata": {},
   "source": [
    "## Rookies dataframe"
   ]
  },
  {
   "cell_type": "code",
   "execution_count": 417,
   "metadata": {},
   "outputs": [],
   "source": [
    "rookies_soup = getAndParseUrl('https://www.nba.com/article/2019/06/21/2019-nba-draft-results-picks-1-60')\n",
    "\n",
    "rookie_names = [r.text for r in rookies_soup.select('div p a[href]') if r.text not in ['officially traded', 'first being dealt', 'then to']]\n",
    "\n",
    "rookie_names = [r for r in rookie_names if 'traded' not in r]\n",
    "\n",
    "rookie_names = [r for r in rookie_names if 'officially' not in r][2:-3]"
   ]
  },
  {
   "cell_type": "code",
   "execution_count": 418,
   "metadata": {
    "collapsed": true
   },
   "outputs": [
    {
     "data": {
      "text/plain": [
       "['Zion Williamson',\n",
       " 'Ja Morant',\n",
       " 'RJ Barrett',\n",
       " \"De'Andre Hunter\",\n",
       " 'Darius Garland',\n",
       " 'Jarrett Culver',\n",
       " 'Coby White',\n",
       " 'Jaxson Hayes',\n",
       " 'Rui Hachimura',\n",
       " 'Cam Reddish',\n",
       " 'Cameron Johnson',\n",
       " 'PJ Washington',\n",
       " 'Tyler Herro',\n",
       " 'Romeo Langford',\n",
       " 'Sekou Doumbouya',\n",
       " 'Chuma Okeke',\n",
       " 'Nickeil Alexander-Walker',\n",
       " 'Goga Bitadze',\n",
       " 'Luka Samanic',\n",
       " 'Matisse Thybulle',\n",
       " 'Brandon Clarke',\n",
       " 'Grant Williams',\n",
       " 'Darius Bazley',\n",
       " 'Ty Jerome',\n",
       " 'Nassir Little',\n",
       " 'Dylan Windler',\n",
       " 'Mfiondu Kabengele',\n",
       " 'Jordan Poole',\n",
       " 'Keldon Johnson',\n",
       " 'Kevin Porter Jr.',\n",
       " 'Nicolas Claxton',\n",
       " 'KZ Okpala',\n",
       " 'Carsen Edwards',\n",
       " 'Bruno Fernando',\n",
       " 'Marcos Louzada Silva',\n",
       " 'Cody Martin',\n",
       " 'Deividas Sirvydis',\n",
       " 'Daniel Gafford',\n",
       " 'Alen Smailagic',\n",
       " 'Justin James',\n",
       " 'Eric Paschall',\n",
       " 'Admiral Schofield',\n",
       " 'Jaylen Nowell',\n",
       " 'Bol Bol',\n",
       " 'Isaiah Roby',\n",
       " 'Talen Horton-Tucker',\n",
       " 'Ignas Brazdeikis',\n",
       " 'Terance Mann',\n",
       " 'Quinndary Weatherspoon',\n",
       " 'Jarrell Brantley',\n",
       " 'Tremont Waters',\n",
       " 'Jalen McDaniels',\n",
       " 'Justin Wright-Foreman',\n",
       " 'Marial Shayok',\n",
       " 'Kyle Guy',\n",
       " 'Jaylen Hands',\n",
       " 'Jordan Bone',\n",
       " 'Miye Oni',\n",
       " 'Dewan Hernandez',\n",
       " 'Vanja Marinkovic']"
      ]
     },
     "execution_count": 418,
     "metadata": {},
     "output_type": "execute_result"
    }
   ],
   "source": [
    "rookie_names"
   ]
  },
  {
   "cell_type": "markdown",
   "metadata": {},
   "source": [
    "rookie schools"
   ]
  },
  {
   "cell_type": "code",
   "execution_count": 277,
   "metadata": {},
   "outputs": [],
   "source": [
    "rook_school_soup = getAndParseUrl('https://en.wikipedia.org/wiki/2019_NBA_draft')"
   ]
  },
  {
   "cell_type": "code",
   "execution_count": 278,
   "metadata": {},
   "outputs": [],
   "source": [
    "# clean the school names \n",
    "rookie_schools = list(set([r.text.strip('\\n').replace(' (Fr.)','').replace(' (So.)','').replace(' (Jr.)','').replace(' (Sr.)','').lower().replace(' ','-') for r in rook_school_soup.select('tr td:last-child')][11:71]))\n"
   ]
  },
  {
   "cell_type": "code",
   "execution_count": 279,
   "metadata": {
    "collapsed": true
   },
   "outputs": [
    {
     "data": {
      "text/plain": [
       "['rytas-vilnius-(lithuania)',\n",
       " 'georgia',\n",
       " 'kentucky',\n",
       " 'hofstra',\n",
       " 'sesi/franca-(brazil)',\n",
       " 'belmont',\n",
       " 'nebraska',\n",
       " 'indiana',\n",
       " 'ucla',\n",
       " 'gonzaga',\n",
       " 'duke',\n",
       " 'vanderbilt',\n",
       " 'miami',\n",
       " 'arkansas',\n",
       " 'usc',\n",
       " 'stanford',\n",
       " 'villanova',\n",
       " 'oregon',\n",
       " 'wyoming',\n",
       " 'san-diego-state',\n",
       " 'partizan-belgrade-(serbia)',\n",
       " 'mississippi-state',\n",
       " 'iowa-state',\n",
       " 'texas-tech',\n",
       " 'mega-bemax-(serbia)',\n",
       " 'north-carolina',\n",
       " 'murray-state',\n",
       " 'limoges-csp-(france)',\n",
       " 'florida-state',\n",
       " 'charleston',\n",
       " 'olimpija-ljubljana-(slovenia)',\n",
       " 'yale',\n",
       " 'virginia',\n",
       " 'nevada',\n",
       " 'michigan',\n",
       " 'maryland',\n",
       " 'virginia-tech',\n",
       " 'lsu',\n",
       " 'santa-cruz-warriors-(g-league)',\n",
       " 'purdue',\n",
       " 'auburn',\n",
       " 'texas',\n",
       " 'princeton-hs-(sharonville,-ohio;-hs-sr.)',\n",
       " 'washington',\n",
       " 'tennessee']"
      ]
     },
     "execution_count": 279,
     "metadata": {},
     "output_type": "execute_result"
    }
   ],
   "source": [
    "rookie_schools"
   ]
  },
  {
   "cell_type": "markdown",
   "metadata": {},
   "source": [
    "scrape for college stats on upcoming rookies"
   ]
  },
  {
   "cell_type": "code",
   "execution_count": 324,
   "metadata": {},
   "outputs": [],
   "source": [
    "def get_college_players(): # function to grab every player and his stats from the page as a dictionary, and store as list\n",
    "    \n",
    "    # player dictionaries container\n",
    "    players = []\n",
    "    \n",
    "    # loop through each school page to grab each player at each school\n",
    "    for school in tqdm(rookie_schools):\n",
    "        try:\n",
    "            url = f'https://www.sports-reference.com/cbb/schools/{school}/2019.html'\n",
    "            soup = getAndParseUrl(url)\n",
    "\n",
    "            # select each td tag under tr tag in the per_game table: each td tag in player_soup is a player's stat, all stored as a list\n",
    "            player_soup = soup.select('#per_game tr td')\n",
    "\n",
    "            # create slicing points to group the 26 elements(html tags) into single list(player)\n",
    "            j=0\n",
    "            k=25\n",
    "\n",
    "            # len(player_soup) gives the number of stats on each page\n",
    "            # divide that by 26 to get number of players per page\n",
    "            for i in range(int(len(player_soup)/25)):\n",
    "\n",
    "                # each player container (player with stats)\n",
    "                each_player = {}\n",
    "\n",
    "                # p is a single player with stats sliced from player_soup\n",
    "                p = player_soup[j:k]\n",
    "\n",
    "                #loop through p to create dictionary of each player\n",
    "                for stat in p:\n",
    "                    # set each stat equal to the tag text (i.e. pts_per_g = 15.4)\n",
    "                    each_player[stat.attrs['data-stat']] = stat.text\n",
    "\n",
    "                # add each player dictionary to the players container\n",
    "                players.append(each_player)\n",
    "\n",
    "                # move slicer to next player\n",
    "                j+=25\n",
    "                k+=25\n",
    "        except:\n",
    "            continue\n",
    "\n",
    "    return players"
   ]
  },
  {
   "cell_type": "code",
   "execution_count": 325,
   "metadata": {},
   "outputs": [
    {
     "name": "stderr",
     "output_type": "stream",
     "text": [
      "100%|██████████| 45/45 [01:06<00:00,  1.57s/it]\n"
     ]
    }
   ],
   "source": [
    "rookies = get_college_players()"
   ]
  },
  {
   "cell_type": "code",
   "execution_count": 369,
   "metadata": {},
   "outputs": [],
   "source": [
    "# set up the rookies dataframe to have the same order of columns as the nba players dataframe\n",
    "# college stats are missing some columns that nba dataframe has\n",
    "rookie_df = pd.DataFrame(rookies, columns=[x for x in list(df.columns) if x not in ['efg_pct','ts_pct','age','team_id','lg_id','per','season']])"
   ]
  },
  {
   "cell_type": "code",
   "execution_count": 370,
   "metadata": {},
   "outputs": [],
   "source": [
    "# change numerical data from strings to ints/floats\n",
    "for col in rookie_df.columns:\n",
    "    try:\n",
    "        rookie_df[col] = pd.to_numeric(rookie_df[col])\n",
    "    except:\n",
    "        pass # this is to skip over strings that are not numerical"
   ]
  },
  {
   "cell_type": "code",
   "execution_count": 427,
   "metadata": {
    "scrolled": true
   },
   "outputs": [],
   "source": [
    "# filter out all college players that weren't drafted into nba in 2019\n",
    "#!!!!! ISSUE: MISSING ROOKIE DATA FOR THE ROOKIES NOT DRAFTED FROM COLLEGE (i.e. overseas, G-league, etc.) !!!!!\n",
    "rookie_df = rookie_df.loc[rookie_df['player'].isin(rookie_names)].sort_values(by='player').reset_index().drop('index',axis=1)"
   ]
  },
  {
   "cell_type": "code",
   "execution_count": 434,
   "metadata": {},
   "outputs": [
    {
     "data": {
      "text/html": [
       "<div>\n",
       "<style scoped>\n",
       "    .dataframe tbody tr th:only-of-type {\n",
       "        vertical-align: middle;\n",
       "    }\n",
       "\n",
       "    .dataframe tbody tr th {\n",
       "        vertical-align: top;\n",
       "    }\n",
       "\n",
       "    .dataframe thead th {\n",
       "        text-align: right;\n",
       "    }\n",
       "</style>\n",
       "<table border=\"1\" class=\"dataframe\">\n",
       "  <thead>\n",
       "    <tr style=\"text-align: right;\">\n",
       "      <th></th>\n",
       "      <th>player</th>\n",
       "      <th>g</th>\n",
       "      <th>gs</th>\n",
       "      <th>mp_per_g</th>\n",
       "      <th>fg_per_g</th>\n",
       "      <th>fga_per_g</th>\n",
       "      <th>fg2_per_g</th>\n",
       "      <th>fg2a_per_g</th>\n",
       "      <th>fg3_per_g</th>\n",
       "      <th>fg3a_per_g</th>\n",
       "      <th>ft_per_g</th>\n",
       "      <th>fta_per_g</th>\n",
       "      <th>orb_per_g</th>\n",
       "      <th>drb_per_g</th>\n",
       "      <th>trb_per_g</th>\n",
       "      <th>ast_per_g</th>\n",
       "      <th>stl_per_g</th>\n",
       "      <th>blk_per_g</th>\n",
       "      <th>tov_per_g</th>\n",
       "      <th>pf_per_g</th>\n",
       "      <th>pts_per_g</th>\n",
       "      <th>fg_pct</th>\n",
       "      <th>fg2_pct</th>\n",
       "      <th>fg3_pct</th>\n",
       "      <th>ft_pct</th>\n",
       "      <th>efg_pct</th>\n",
       "    </tr>\n",
       "  </thead>\n",
       "  <tbody>\n",
       "    <tr>\n",
       "      <th>0</th>\n",
       "      <td>Admiral Schofield</td>\n",
       "      <td>37</td>\n",
       "      <td>37</td>\n",
       "      <td>31.8</td>\n",
       "      <td>6.4</td>\n",
       "      <td>13.6</td>\n",
       "      <td>4.4</td>\n",
       "      <td>8.8</td>\n",
       "      <td>2.0</td>\n",
       "      <td>4.8</td>\n",
       "      <td>1.6</td>\n",
       "      <td>2.3</td>\n",
       "      <td>1.2</td>\n",
       "      <td>5.0</td>\n",
       "      <td>6.1</td>\n",
       "      <td>2.0</td>\n",
       "      <td>0.9</td>\n",
       "      <td>0.5</td>\n",
       "      <td>1.9</td>\n",
       "      <td>2.5</td>\n",
       "      <td>16.5</td>\n",
       "      <td>0.474</td>\n",
       "      <td>0.505</td>\n",
       "      <td>0.418</td>\n",
       "      <td>0.698</td>\n",
       "      <td>0.544118</td>\n",
       "    </tr>\n",
       "  </tbody>\n",
       "</table>\n",
       "</div>"
      ],
      "text/plain": [
       "              player   g  gs  mp_per_g  fg_per_g  fga_per_g  fg2_per_g  \\\n",
       "0  Admiral Schofield  37  37      31.8       6.4       13.6        4.4   \n",
       "\n",
       "   fg2a_per_g  fg3_per_g  fg3a_per_g  ft_per_g  fta_per_g  orb_per_g  \\\n",
       "0         8.8        2.0         4.8       1.6        2.3        1.2   \n",
       "\n",
       "   drb_per_g  trb_per_g  ast_per_g  stl_per_g  blk_per_g  tov_per_g  pf_per_g  \\\n",
       "0        5.0        6.1        2.0        0.9        0.5        1.9       2.5   \n",
       "\n",
       "   pts_per_g  fg_pct  fg2_pct  fg3_pct  ft_pct   efg_pct  \n",
       "0       16.5   0.474    0.505    0.418   0.698  0.544118  "
      ]
     },
     "execution_count": 434,
     "metadata": {},
     "output_type": "execute_result"
    }
   ],
   "source": [
    "rookie_df.head(1)"
   ]
  },
  {
   "cell_type": "code",
   "execution_count": 430,
   "metadata": {},
   "outputs": [],
   "source": [
    "# saving rookie df as json file\n",
    "rookie_df.to_json('rookie_df.json')"
   ]
  },
  {
   "cell_type": "markdown",
   "metadata": {},
   "source": [
    "##### Adding missing columns to rookie_df to match the nba df\n",
    "some columns are calculable"
   ]
  },
  {
   "cell_type": "markdown",
   "metadata": {},
   "source": [
    "missing: ['efg_pct','ts_pct','age','team_id','lg_id','per','season']"
   ]
  },
  {
   "cell_type": "code",
   "execution_count": 432,
   "metadata": {},
   "outputs": [],
   "source": [
    "# calculating effective field goal percentage for college players (efg_pct)\n",
    "rookie_df['efg_pct'] = (rookie_df.fg2_per_g + (1.5*rookie_df.fg3_per_g))/rookie_df.fga_per_g"
   ]
  },
  {
   "cell_type": "code",
   "execution_count": 439,
   "metadata": {},
   "outputs": [],
   "source": [
    "# calculating true shooting percentage (ts_pct)\n",
    "rookie_df['ts_pct'] = rookie_df.pts_per_g/(2*(rookie_df.fga_per_g + (.44*rookie_df.fta_per_g)))"
   ]
  },
  {
   "cell_type": "code",
   "execution_count": 440,
   "metadata": {},
   "outputs": [],
   "source": [
    "# calculating player efficiency rating (per) in accordance with basketball-reference.com's formula\n",
    "# this is the url for calculating per: 'https://www.basketball-reference.com/about/per.html'\n",
    "factor = (2/3) - (.5*())"
   ]
  },
  {
   "cell_type": "code",
   "execution_count": null,
   "metadata": {},
   "outputs": [],
   "source": []
  }
 ],
 "metadata": {
  "kernelspec": {
   "display_name": "Python 3",
   "language": "python",
   "name": "python3"
  },
  "language_info": {
   "codemirror_mode": {
    "name": "ipython",
    "version": 3
   },
   "file_extension": ".py",
   "mimetype": "text/x-python",
   "name": "python",
   "nbconvert_exporter": "python",
   "pygments_lexer": "ipython3",
   "version": "3.7.3"
  }
 },
 "nbformat": 4,
 "nbformat_minor": 2
}
