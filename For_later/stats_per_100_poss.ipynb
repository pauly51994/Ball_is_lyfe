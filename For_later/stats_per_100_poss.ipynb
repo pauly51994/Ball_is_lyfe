{
 "cells": [
  {
   "cell_type": "code",
   "execution_count": 1,
   "metadata": {},
   "outputs": [],
   "source": [
    "import requests\n",
    "from bs4 import BeautifulSoup\n",
    "import pandas as pd\n",
    "import matplotlib.pyplot as plt\n",
    "import time\n",
    "from tqdm import tqdm\n",
    "import pickle\n",
    "import seaborn as sns"
   ]
  },
  {
   "cell_type": "code",
   "execution_count": 3,
   "metadata": {},
   "outputs": [],
   "source": [
    "pd.set_option('display.max_columns', 100)"
   ]
  },
  {
   "cell_type": "markdown",
   "metadata": {},
   "source": [
    "# Scrape data"
   ]
  },
  {
   "cell_type": "code",
   "execution_count": 4,
   "metadata": {},
   "outputs": [],
   "source": [
    "def getAndParseUrl(url):\n",
    "    results = requests.get(url)\n",
    "    time.sleep(1)\n",
    "    soup = BeautifulSoup(results.text, 'html.parser')\n",
    "    return soup"
   ]
  },
  {
   "cell_type": "code",
   "execution_count": 37,
   "metadata": {},
   "outputs": [],
   "source": [
    "# this url is for all players between 2014 and 2019 with a PER >= 0\n",
    "url1 = 'https://www.basketball-reference.com/play-index/psl_finder.cgi?request=1&match=single&type=per_poss&per_minute_base=36&per_poss_base=100&lg_id=NBA&is_playoffs=N&year_min=2015&year_max=2019&franch_id=&season_start=1&season_end=-1&age_min=0&age_max=99&shoot_hand=&height_min=0&height_max=99&birth_country_is=Y&birth_country=&birth_state=&college_id=&draft_year=&is_active=&debut_yr_nba_start=&debut_yr_nba_end=&is_hof=&is_as=&as_comp=gt&as_val=0&award=&pos_is_g=Y&pos_is_gf=Y&pos_is_f=Y&pos_is_fg=Y&pos_is_fc=Y&pos_is_c=Y&pos_is_cf=Y&qual=&c1stat=per&c1comp=gt&c1val=&order_by=season&order_by_asc=&offset='"
   ]
  },
  {
   "cell_type": "code",
   "execution_count": 6,
   "metadata": {},
   "outputs": [],
   "source": [
    "# this url is for all players between 2014 and 2019 with a PER <=0\n",
    "url2 = 'https://www.basketball-reference.com/play-index/psl_finder.cgi?request=1&match=single&per_minute_base=36&type=per_poss&per_poss_base=100&season_start=1&season_end=-1&lg_id=NBA&age_min=0&age_max=99&is_playoffs=N&height_min=0&height_max=99&year_min=2015&year_max=2019&birth_country_is=Y&as_comp=gt&as_val=0&pos_is_g=Y&pos_is_gf=Y&pos_is_f=Y&pos_is_fg=Y&pos_is_fc=Y&pos_is_c=Y&pos_is_cf=Y&c1stat=per&c1comp=lt&order_by=season&order_by_asc=&offset='"
   ]
  },
  {
   "cell_type": "code",
   "execution_count": 45,
   "metadata": {},
   "outputs": [],
   "source": [
    "def get_players(website): # function to grab every player and his stats from the page as a dictionary, and store as list\n",
    "    \n",
    "    # player dictionaries container\n",
    "    players = []\n",
    "    \n",
    "    # loop through each page(for this website, each page is accessed by 'offset={some multiple of 100}')\n",
    "    # last page is offset=2500\n",
    "    for i in tqdm(range(0,2500,100)):\n",
    "        url = website+str(i)\n",
    "        soup = getAndParseUrl(url)\n",
    "        \n",
    "        # select each td tag under tr tag: each td tag in player_soup is a player's stat, all stored as a list\n",
    "        player_soup = soup.select('#stats tr td')\n",
    "        \n",
    "        # create slicing points to group the 33 elements(html tags/columns) into single list(player)\n",
    "        j=0\n",
    "        k=32\n",
    "        \n",
    "        # there are a 100 players per page, 31 stats per player == 3100 elements in player_soup (except last page)\n",
    "        # len(player_soup) gives the number of stats on each page\n",
    "        # divide that by 31 to get number of players per page\n",
    "        for i in range(int(len(player_soup)/32)):\n",
    "            \n",
    "            # each player container (player with stats)\n",
    "            each_player = {}\n",
    "            \n",
    "            # p is a single player with stats sliced from player_soup using slicing points\n",
    "            p = player_soup[j:k]\n",
    "            \n",
    "            #loop through p to create dictionary of each player\n",
    "            for stat in p:\n",
    "                # set each stat equal to the tag text (i.e. pts_per_g = 15.4)\n",
    "                each_player[stat.attrs['data-stat']] = stat.text\n",
    "            \n",
    "            # add each player dictionary to the players container\n",
    "            players.append(each_player)\n",
    "            \n",
    "            # move slicer to next player\n",
    "            j+=32\n",
    "            k+=32\n",
    "        \n",
    "        #checking to see if scraping is working at each step\n",
    "        print(len(players))\n",
    "        \n",
    "        # check to see if current page is the last page containing stats\n",
    "        # if so, break out of loop\n",
    "        # else go on to next page\n",
    "        next_pg_checker = soup.select('p a[href]')\n",
    "        if 'Next page' not in [c.text for c in next_pg_checker]:\n",
    "            break\n",
    "        else: continue\n",
    "        \n",
    "    return players"
   ]
  },
  {
   "cell_type": "code",
   "execution_count": 46,
   "metadata": {
    "collapsed": true
   },
   "outputs": [
    {
     "name": "stderr",
     "output_type": "stream",
     "text": [
      "\n",
      "\n",
      "  0%|          | 0/25 [00:00<?, ?it/s]\u001b[A\u001b[A\n",
      "\n",
      "  4%|▍         | 1/25 [00:02<00:56,  2.35s/it]\u001b[A\u001b[A"
     ]
    },
    {
     "name": "stdout",
     "output_type": "stream",
     "text": [
      "100\n"
     ]
    },
    {
     "name": "stderr",
     "output_type": "stream",
     "text": [
      "\n",
      "\n",
      "  8%|▊         | 2/25 [00:04<00:53,  2.31s/it]\u001b[A\u001b[A"
     ]
    },
    {
     "name": "stdout",
     "output_type": "stream",
     "text": [
      "200\n"
     ]
    },
    {
     "name": "stderr",
     "output_type": "stream",
     "text": [
      "\n",
      "\n",
      " 12%|█▏        | 3/25 [00:06<00:49,  2.26s/it]\u001b[A\u001b[A"
     ]
    },
    {
     "name": "stdout",
     "output_type": "stream",
     "text": [
      "300\n"
     ]
    },
    {
     "name": "stderr",
     "output_type": "stream",
     "text": [
      "\n",
      "\n",
      " 16%|█▌        | 4/25 [00:09<00:47,  2.28s/it]\u001b[A\u001b[A"
     ]
    },
    {
     "name": "stdout",
     "output_type": "stream",
     "text": [
      "400\n"
     ]
    },
    {
     "name": "stderr",
     "output_type": "stream",
     "text": [
      "\n",
      "\n",
      " 20%|██        | 5/25 [00:11<00:44,  2.24s/it]\u001b[A\u001b[A"
     ]
    },
    {
     "name": "stdout",
     "output_type": "stream",
     "text": [
      "500\n"
     ]
    },
    {
     "name": "stderr",
     "output_type": "stream",
     "text": [
      "\n",
      "\n",
      " 24%|██▍       | 6/25 [00:13<00:42,  2.24s/it]\u001b[A\u001b[A"
     ]
    },
    {
     "name": "stdout",
     "output_type": "stream",
     "text": [
      "600\n"
     ]
    },
    {
     "name": "stderr",
     "output_type": "stream",
     "text": [
      "\n",
      "\n",
      " 28%|██▊       | 7/25 [00:16<00:43,  2.42s/it]\u001b[A\u001b[A"
     ]
    },
    {
     "name": "stdout",
     "output_type": "stream",
     "text": [
      "700\n"
     ]
    },
    {
     "name": "stderr",
     "output_type": "stream",
     "text": [
      "\n",
      "\n",
      " 32%|███▏      | 8/25 [00:18<00:40,  2.37s/it]\u001b[A\u001b[A"
     ]
    },
    {
     "name": "stdout",
     "output_type": "stream",
     "text": [
      "800\n"
     ]
    },
    {
     "name": "stderr",
     "output_type": "stream",
     "text": [
      "\n",
      "\n",
      " 36%|███▌      | 9/25 [00:20<00:37,  2.31s/it]\u001b[A\u001b[A"
     ]
    },
    {
     "name": "stdout",
     "output_type": "stream",
     "text": [
      "900\n"
     ]
    },
    {
     "name": "stderr",
     "output_type": "stream",
     "text": [
      "\n",
      "\n",
      " 40%|████      | 10/25 [00:23<00:34,  2.32s/it]\u001b[A\u001b[A"
     ]
    },
    {
     "name": "stdout",
     "output_type": "stream",
     "text": [
      "1000\n"
     ]
    },
    {
     "name": "stderr",
     "output_type": "stream",
     "text": [
      "\n",
      "\n",
      " 44%|████▍     | 11/25 [00:25<00:32,  2.29s/it]\u001b[A\u001b[A"
     ]
    },
    {
     "name": "stdout",
     "output_type": "stream",
     "text": [
      "1100\n"
     ]
    },
    {
     "name": "stderr",
     "output_type": "stream",
     "text": [
      "\n",
      "\n",
      " 48%|████▊     | 12/25 [00:27<00:30,  2.31s/it]\u001b[A\u001b[A"
     ]
    },
    {
     "name": "stdout",
     "output_type": "stream",
     "text": [
      "1200\n"
     ]
    },
    {
     "name": "stderr",
     "output_type": "stream",
     "text": [
      "\n",
      "\n",
      " 52%|█████▏    | 13/25 [00:29<00:27,  2.29s/it]\u001b[A\u001b[A"
     ]
    },
    {
     "name": "stdout",
     "output_type": "stream",
     "text": [
      "1300\n"
     ]
    },
    {
     "name": "stderr",
     "output_type": "stream",
     "text": [
      "\n",
      "\n",
      " 56%|█████▌    | 14/25 [00:32<00:25,  2.29s/it]\u001b[A\u001b[A"
     ]
    },
    {
     "name": "stdout",
     "output_type": "stream",
     "text": [
      "1400\n"
     ]
    },
    {
     "name": "stderr",
     "output_type": "stream",
     "text": [
      "\n",
      "\n",
      " 60%|██████    | 15/25 [00:34<00:22,  2.28s/it]\u001b[A\u001b[A"
     ]
    },
    {
     "name": "stdout",
     "output_type": "stream",
     "text": [
      "1500\n"
     ]
    },
    {
     "name": "stderr",
     "output_type": "stream",
     "text": [
      "\n",
      "\n",
      " 64%|██████▍   | 16/25 [00:36<00:20,  2.24s/it]\u001b[A\u001b[A"
     ]
    },
    {
     "name": "stdout",
     "output_type": "stream",
     "text": [
      "1600\n"
     ]
    },
    {
     "name": "stderr",
     "output_type": "stream",
     "text": [
      "\n",
      "\n",
      " 68%|██████▊   | 17/25 [00:38<00:18,  2.26s/it]\u001b[A\u001b[A"
     ]
    },
    {
     "name": "stdout",
     "output_type": "stream",
     "text": [
      "1700\n"
     ]
    },
    {
     "name": "stderr",
     "output_type": "stream",
     "text": [
      "\n",
      "\n",
      " 72%|███████▏  | 18/25 [00:41<00:15,  2.23s/it]\u001b[A\u001b[A"
     ]
    },
    {
     "name": "stdout",
     "output_type": "stream",
     "text": [
      "1800\n"
     ]
    },
    {
     "name": "stderr",
     "output_type": "stream",
     "text": [
      "\n",
      "\n",
      " 76%|███████▌  | 19/25 [00:43<00:13,  2.24s/it]\u001b[A\u001b[A"
     ]
    },
    {
     "name": "stdout",
     "output_type": "stream",
     "text": [
      "1900\n"
     ]
    },
    {
     "name": "stderr",
     "output_type": "stream",
     "text": [
      "\n",
      "\n",
      " 80%|████████  | 20/25 [00:45<00:11,  2.23s/it]\u001b[A\u001b[A"
     ]
    },
    {
     "name": "stdout",
     "output_type": "stream",
     "text": [
      "2000\n"
     ]
    },
    {
     "name": "stderr",
     "output_type": "stream",
     "text": [
      "\n",
      "\n",
      " 84%|████████▍ | 21/25 [00:48<00:09,  2.35s/it]\u001b[A\u001b[A"
     ]
    },
    {
     "name": "stdout",
     "output_type": "stream",
     "text": [
      "2100\n"
     ]
    },
    {
     "name": "stderr",
     "output_type": "stream",
     "text": [
      "\n",
      "\n",
      " 88%|████████▊ | 22/25 [00:50<00:06,  2.33s/it]\u001b[A\u001b[A"
     ]
    },
    {
     "name": "stdout",
     "output_type": "stream",
     "text": [
      "2200\n"
     ]
    },
    {
     "name": "stderr",
     "output_type": "stream",
     "text": [
      "\n",
      "\n",
      " 92%|█████████▏| 23/25 [00:53<00:04,  2.44s/it]\u001b[A\u001b[A"
     ]
    },
    {
     "name": "stdout",
     "output_type": "stream",
     "text": [
      "2300\n"
     ]
    },
    {
     "name": "stderr",
     "output_type": "stream",
     "text": [
      "\n",
      "\n",
      " 96%|█████████▌| 24/25 [00:55<00:02,  2.45s/it]\u001b[A\u001b[A"
     ]
    },
    {
     "name": "stdout",
     "output_type": "stream",
     "text": [
      "2400\n",
      "2473\n"
     ]
    }
   ],
   "source": [
    "players=get_players(url1)"
   ]
  },
  {
   "cell_type": "code",
   "execution_count": 48,
   "metadata": {},
   "outputs": [
    {
     "name": "stderr",
     "output_type": "stream",
     "text": [
      "\n",
      "\n",
      "\n",
      "  0%|          | 0/25 [00:00<?, ?it/s]\u001b[A\u001b[A\u001b[A"
     ]
    },
    {
     "name": "stdout",
     "output_type": "stream",
     "text": [
      "57\n"
     ]
    }
   ],
   "source": [
    "players.extend(get_players(url2))"
   ]
  },
  {
   "cell_type": "code",
   "execution_count": 49,
   "metadata": {},
   "outputs": [],
   "source": [
    "# save the players as a pickle\n",
    "with open('player_stats_per_100p.pickle', 'wb') as outfile:\n",
    "    pickle.dump(players, outfile)\n",
    "\n",
    "outfile.close()"
   ]
  },
  {
   "cell_type": "markdown",
   "metadata": {},
   "source": [
    "# Setting up the dataframe"
   ]
  },
  {
   "cell_type": "markdown",
   "metadata": {},
   "source": [
    "## NBA dataframe"
   ]
  },
  {
   "cell_type": "code",
   "execution_count": 51,
   "metadata": {},
   "outputs": [],
   "source": [
    "# make a dataframe of all players and stats\n",
    "df = pd.DataFrame(players, columns = players[0].keys())"
   ]
  },
  {
   "cell_type": "markdown",
   "metadata": {},
   "source": [
    "##### change dtypes for columns with numerical data from str to int or float\n"
   ]
  },
  {
   "cell_type": "code",
   "execution_count": 52,
   "metadata": {
    "scrolled": true
   },
   "outputs": [],
   "source": [
    "cols = list(players[0].keys())"
   ]
  },
  {
   "cell_type": "code",
   "execution_count": 53,
   "metadata": {},
   "outputs": [],
   "source": [
    "df.age = df.age.astype(int)"
   ]
  },
  {
   "cell_type": "code",
   "execution_count": 54,
   "metadata": {},
   "outputs": [],
   "source": [
    "df.per = df.per.astype(float)"
   ]
  },
  {
   "cell_type": "code",
   "execution_count": 55,
   "metadata": {},
   "outputs": [],
   "source": [
    "for i in range(6,len(cols)):\n",
    "    df[cols[i]] = pd.to_numeric(df[cols[i]])"
   ]
  },
  {
   "cell_type": "code",
   "execution_count": 56,
   "metadata": {},
   "outputs": [],
   "source": [
    "df = df.sort_values(by=['player','season']).reset_index().drop('index',axis=1)"
   ]
  },
  {
   "cell_type": "code",
   "execution_count": 57,
   "metadata": {},
   "outputs": [
    {
     "data": {
      "text/html": [
       "<div>\n",
       "<style scoped>\n",
       "    .dataframe tbody tr th:only-of-type {\n",
       "        vertical-align: middle;\n",
       "    }\n",
       "\n",
       "    .dataframe tbody tr th {\n",
       "        vertical-align: top;\n",
       "    }\n",
       "\n",
       "    .dataframe thead th {\n",
       "        text-align: right;\n",
       "    }\n",
       "</style>\n",
       "<table border=\"1\" class=\"dataframe\">\n",
       "  <thead>\n",
       "    <tr style=\"text-align: right;\">\n",
       "      <th></th>\n",
       "      <th>player</th>\n",
       "      <th>age</th>\n",
       "      <th>team_id</th>\n",
       "      <th>lg_id</th>\n",
       "      <th>per</th>\n",
       "      <th>season</th>\n",
       "      <th>g</th>\n",
       "      <th>gs</th>\n",
       "      <th>mp</th>\n",
       "      <th>fg_per_poss</th>\n",
       "      <th>fga_per_poss</th>\n",
       "      <th>fg2_per_poss</th>\n",
       "      <th>fg2a_per_poss</th>\n",
       "      <th>fg3_per_poss</th>\n",
       "      <th>fg3a_per_poss</th>\n",
       "      <th>ft_per_poss</th>\n",
       "      <th>fta_per_poss</th>\n",
       "      <th>orb_per_poss</th>\n",
       "      <th>drb_per_poss</th>\n",
       "      <th>trb_per_poss</th>\n",
       "      <th>ast_per_poss</th>\n",
       "      <th>stl_per_poss</th>\n",
       "      <th>blk_per_poss</th>\n",
       "      <th>tov_per_poss</th>\n",
       "      <th>pf_per_poss</th>\n",
       "      <th>pts_per_poss</th>\n",
       "      <th>fg_pct</th>\n",
       "      <th>fg2_pct</th>\n",
       "      <th>fg3_pct</th>\n",
       "      <th>efg_pct</th>\n",
       "      <th>ft_pct</th>\n",
       "      <th>ts_pct</th>\n",
       "    </tr>\n",
       "  </thead>\n",
       "  <tbody>\n",
       "    <tr>\n",
       "      <th>0</th>\n",
       "      <td>A.J. Hammons</td>\n",
       "      <td>24</td>\n",
       "      <td>DAL</td>\n",
       "      <td>NBA</td>\n",
       "      <td>8.4</td>\n",
       "      <td>2016-17</td>\n",
       "      <td>22</td>\n",
       "      <td>0</td>\n",
       "      <td>163</td>\n",
       "      <td>5.4</td>\n",
       "      <td>13.4</td>\n",
       "      <td>3.8</td>\n",
       "      <td>10.2</td>\n",
       "      <td>1.6</td>\n",
       "      <td>3.2</td>\n",
       "      <td>2.9</td>\n",
       "      <td>6.4</td>\n",
       "      <td>2.6</td>\n",
       "      <td>8.9</td>\n",
       "      <td>11.5</td>\n",
       "      <td>1.3</td>\n",
       "      <td>0.3</td>\n",
       "      <td>4.2</td>\n",
       "      <td>3.2</td>\n",
       "      <td>6.7</td>\n",
       "      <td>15.3</td>\n",
       "      <td>0.405</td>\n",
       "      <td>0.375</td>\n",
       "      <td>0.500</td>\n",
       "      <td>0.464</td>\n",
       "      <td>0.450</td>\n",
       "      <td>0.472</td>\n",
       "    </tr>\n",
       "    <tr>\n",
       "      <th>1</th>\n",
       "      <td>A.J. Price</td>\n",
       "      <td>28</td>\n",
       "      <td>TOT</td>\n",
       "      <td>NBA</td>\n",
       "      <td>12.0</td>\n",
       "      <td>2014-15</td>\n",
       "      <td>26</td>\n",
       "      <td>0</td>\n",
       "      <td>324</td>\n",
       "      <td>8.1</td>\n",
       "      <td>21.7</td>\n",
       "      <td>5.7</td>\n",
       "      <td>12.7</td>\n",
       "      <td>2.4</td>\n",
       "      <td>9.0</td>\n",
       "      <td>2.5</td>\n",
       "      <td>3.8</td>\n",
       "      <td>1.0</td>\n",
       "      <td>4.1</td>\n",
       "      <td>5.1</td>\n",
       "      <td>7.3</td>\n",
       "      <td>1.1</td>\n",
       "      <td>0.0</td>\n",
       "      <td>2.2</td>\n",
       "      <td>2.4</td>\n",
       "      <td>21.1</td>\n",
       "      <td>0.372</td>\n",
       "      <td>0.450</td>\n",
       "      <td>0.263</td>\n",
       "      <td>0.427</td>\n",
       "      <td>0.667</td>\n",
       "      <td>0.451</td>\n",
       "    </tr>\n",
       "    <tr>\n",
       "      <th>2</th>\n",
       "      <td>Aaron Brooks</td>\n",
       "      <td>30</td>\n",
       "      <td>CHI</td>\n",
       "      <td>NBA</td>\n",
       "      <td>14.4</td>\n",
       "      <td>2014-15</td>\n",
       "      <td>82</td>\n",
       "      <td>21</td>\n",
       "      <td>1885</td>\n",
       "      <td>9.4</td>\n",
       "      <td>22.4</td>\n",
       "      <td>6.1</td>\n",
       "      <td>13.8</td>\n",
       "      <td>3.3</td>\n",
       "      <td>8.6</td>\n",
       "      <td>4.0</td>\n",
       "      <td>4.8</td>\n",
       "      <td>0.9</td>\n",
       "      <td>3.7</td>\n",
       "      <td>4.6</td>\n",
       "      <td>7.2</td>\n",
       "      <td>1.5</td>\n",
       "      <td>0.4</td>\n",
       "      <td>4.3</td>\n",
       "      <td>5.2</td>\n",
       "      <td>26.2</td>\n",
       "      <td>0.421</td>\n",
       "      <td>0.442</td>\n",
       "      <td>0.387</td>\n",
       "      <td>0.495</td>\n",
       "      <td>0.833</td>\n",
       "      <td>0.534</td>\n",
       "    </tr>\n",
       "    <tr>\n",
       "      <th>3</th>\n",
       "      <td>Aaron Brooks</td>\n",
       "      <td>31</td>\n",
       "      <td>CHI</td>\n",
       "      <td>NBA</td>\n",
       "      <td>11.8</td>\n",
       "      <td>2015-16</td>\n",
       "      <td>69</td>\n",
       "      <td>0</td>\n",
       "      <td>1108</td>\n",
       "      <td>8.5</td>\n",
       "      <td>21.2</td>\n",
       "      <td>5.5</td>\n",
       "      <td>12.9</td>\n",
       "      <td>3.0</td>\n",
       "      <td>8.4</td>\n",
       "      <td>2.2</td>\n",
       "      <td>2.9</td>\n",
       "      <td>1.0</td>\n",
       "      <td>3.6</td>\n",
       "      <td>4.6</td>\n",
       "      <td>8.1</td>\n",
       "      <td>1.4</td>\n",
       "      <td>0.5</td>\n",
       "      <td>3.7</td>\n",
       "      <td>6.0</td>\n",
       "      <td>22.2</td>\n",
       "      <td>0.401</td>\n",
       "      <td>0.430</td>\n",
       "      <td>0.357</td>\n",
       "      <td>0.471</td>\n",
       "      <td>0.766</td>\n",
       "      <td>0.494</td>\n",
       "    </tr>\n",
       "    <tr>\n",
       "      <th>4</th>\n",
       "      <td>Aaron Brooks</td>\n",
       "      <td>32</td>\n",
       "      <td>IND</td>\n",
       "      <td>NBA</td>\n",
       "      <td>9.5</td>\n",
       "      <td>2016-17</td>\n",
       "      <td>65</td>\n",
       "      <td>0</td>\n",
       "      <td>894</td>\n",
       "      <td>6.8</td>\n",
       "      <td>16.8</td>\n",
       "      <td>4.1</td>\n",
       "      <td>9.6</td>\n",
       "      <td>2.7</td>\n",
       "      <td>7.2</td>\n",
       "      <td>1.8</td>\n",
       "      <td>2.2</td>\n",
       "      <td>1.0</td>\n",
       "      <td>2.9</td>\n",
       "      <td>3.9</td>\n",
       "      <td>7.0</td>\n",
       "      <td>1.4</td>\n",
       "      <td>0.5</td>\n",
       "      <td>3.7</td>\n",
       "      <td>5.2</td>\n",
       "      <td>18.0</td>\n",
       "      <td>0.403</td>\n",
       "      <td>0.424</td>\n",
       "      <td>0.375</td>\n",
       "      <td>0.483</td>\n",
       "      <td>0.800</td>\n",
       "      <td>0.507</td>\n",
       "    </tr>\n",
       "  </tbody>\n",
       "</table>\n",
       "</div>"
      ],
      "text/plain": [
       "         player  age team_id lg_id   per   season   g  gs    mp  fg_per_poss  \\\n",
       "0  A.J. Hammons   24     DAL   NBA   8.4  2016-17  22   0   163          5.4   \n",
       "1    A.J. Price   28     TOT   NBA  12.0  2014-15  26   0   324          8.1   \n",
       "2  Aaron Brooks   30     CHI   NBA  14.4  2014-15  82  21  1885          9.4   \n",
       "3  Aaron Brooks   31     CHI   NBA  11.8  2015-16  69   0  1108          8.5   \n",
       "4  Aaron Brooks   32     IND   NBA   9.5  2016-17  65   0   894          6.8   \n",
       "\n",
       "   fga_per_poss  fg2_per_poss  fg2a_per_poss  fg3_per_poss  fg3a_per_poss  \\\n",
       "0          13.4           3.8           10.2           1.6            3.2   \n",
       "1          21.7           5.7           12.7           2.4            9.0   \n",
       "2          22.4           6.1           13.8           3.3            8.6   \n",
       "3          21.2           5.5           12.9           3.0            8.4   \n",
       "4          16.8           4.1            9.6           2.7            7.2   \n",
       "\n",
       "   ft_per_poss  fta_per_poss  orb_per_poss  drb_per_poss  trb_per_poss  \\\n",
       "0          2.9           6.4           2.6           8.9          11.5   \n",
       "1          2.5           3.8           1.0           4.1           5.1   \n",
       "2          4.0           4.8           0.9           3.7           4.6   \n",
       "3          2.2           2.9           1.0           3.6           4.6   \n",
       "4          1.8           2.2           1.0           2.9           3.9   \n",
       "\n",
       "   ast_per_poss  stl_per_poss  blk_per_poss  tov_per_poss  pf_per_poss  \\\n",
       "0           1.3           0.3           4.2           3.2          6.7   \n",
       "1           7.3           1.1           0.0           2.2          2.4   \n",
       "2           7.2           1.5           0.4           4.3          5.2   \n",
       "3           8.1           1.4           0.5           3.7          6.0   \n",
       "4           7.0           1.4           0.5           3.7          5.2   \n",
       "\n",
       "   pts_per_poss  fg_pct  fg2_pct  fg3_pct  efg_pct  ft_pct  ts_pct  \n",
       "0          15.3   0.405    0.375    0.500    0.464   0.450   0.472  \n",
       "1          21.1   0.372    0.450    0.263    0.427   0.667   0.451  \n",
       "2          26.2   0.421    0.442    0.387    0.495   0.833   0.534  \n",
       "3          22.2   0.401    0.430    0.357    0.471   0.766   0.494  \n",
       "4          18.0   0.403    0.424    0.375    0.483   0.800   0.507  "
      ]
     },
     "execution_count": 57,
     "metadata": {},
     "output_type": "execute_result"
    }
   ],
   "source": [
    "df.head()"
   ]
  },
  {
   "cell_type": "code",
   "execution_count": 58,
   "metadata": {},
   "outputs": [],
   "source": [
    "# saving nba df as json file\n",
    "df.to_json('nba_100p_df.json')"
   ]
  },
  {
   "cell_type": "markdown",
   "metadata": {},
   "source": [
    "## Rookies dataframe"
   ]
  },
  {
   "cell_type": "code",
   "execution_count": 59,
   "metadata": {},
   "outputs": [],
   "source": [
    "rookies_soup = getAndParseUrl('https://www.nba.com/article/2019/06/21/2019-nba-draft-results-picks-1-60')\n",
    "\n",
    "rookie_names = [r.text for r in rookies_soup.select('div p a[href]') if r.text not in ['officially traded', 'first being dealt', 'then to']]\n",
    "\n",
    "rookie_names = [r for r in rookie_names if 'traded' not in r]\n",
    "\n",
    "rookie_names = [r for r in rookie_names if 'officially' not in r][2:-3]"
   ]
  },
  {
   "cell_type": "code",
   "execution_count": 60,
   "metadata": {
    "collapsed": true
   },
   "outputs": [
    {
     "data": {
      "text/plain": [
       "['Zion Williamson',\n",
       " 'Ja Morant',\n",
       " 'RJ Barrett',\n",
       " \"De'Andre Hunter\",\n",
       " 'Darius Garland',\n",
       " 'Jarrett Culver',\n",
       " 'Coby White',\n",
       " 'Jaxson Hayes',\n",
       " 'Rui Hachimura',\n",
       " 'Cam Reddish',\n",
       " 'Cameron Johnson',\n",
       " 'PJ Washington',\n",
       " 'Tyler Herro',\n",
       " 'Romeo Langford',\n",
       " 'Sekou Doumbouya',\n",
       " 'Chuma Okeke',\n",
       " 'Nickeil Alexander-Walker',\n",
       " 'Goga Bitadze',\n",
       " 'Luka Samanic',\n",
       " 'Matisse Thybulle',\n",
       " 'Brandon Clarke',\n",
       " 'Grant Williams',\n",
       " 'Darius Bazley',\n",
       " 'Ty Jerome',\n",
       " 'Nassir Little',\n",
       " 'Dylan Windler',\n",
       " 'Mfiondu Kabengele',\n",
       " 'Jordan Poole',\n",
       " 'Keldon Johnson',\n",
       " 'Kevin Porter Jr.',\n",
       " 'Nicolas Claxton',\n",
       " 'KZ Okpala',\n",
       " 'Carsen Edwards',\n",
       " 'Bruno Fernando',\n",
       " 'Marcos Louzada Silva',\n",
       " 'Cody Martin',\n",
       " 'Deividas Sirvydis',\n",
       " 'Daniel Gafford',\n",
       " 'Alen Smailagic',\n",
       " 'Justin James',\n",
       " 'Eric Paschall',\n",
       " 'Admiral Schofield',\n",
       " 'Jaylen Nowell',\n",
       " 'Bol Bol',\n",
       " 'Isaiah Roby',\n",
       " 'Talen Horton-Tucker',\n",
       " 'Ignas Brazdeikis',\n",
       " 'Terance Mann',\n",
       " 'Quinndary Weatherspoon',\n",
       " 'Jarrell Brantley',\n",
       " 'Tremont Waters',\n",
       " 'Jalen McDaniels',\n",
       " 'Justin Wright-Foreman',\n",
       " 'Marial Shayok',\n",
       " 'Kyle Guy',\n",
       " 'Jaylen Hands',\n",
       " 'Jordan Bone',\n",
       " 'Miye Oni',\n",
       " 'Dewan Hernandez',\n",
       " 'Vanja Marinkovic']"
      ]
     },
     "execution_count": 60,
     "metadata": {},
     "output_type": "execute_result"
    }
   ],
   "source": [
    "rookie_names"
   ]
  },
  {
   "cell_type": "markdown",
   "metadata": {},
   "source": [
    "rookie schools"
   ]
  },
  {
   "cell_type": "code",
   "execution_count": 61,
   "metadata": {},
   "outputs": [],
   "source": [
    "rook_school_soup = getAndParseUrl('https://en.wikipedia.org/wiki/2019_NBA_draft')"
   ]
  },
  {
   "cell_type": "code",
   "execution_count": 62,
   "metadata": {},
   "outputs": [],
   "source": [
    "# clean the school names \n",
    "rookie_schools = list(set([r.text.strip('\\n').replace(' (Fr.)','').replace(' (So.)','').replace(' (Jr.)','').replace(' (Sr.)','').lower().replace(' ','-') for r in rook_school_soup.select('tr td:last-child')][11:71]))\n"
   ]
  },
  {
   "cell_type": "code",
   "execution_count": 63,
   "metadata": {
    "collapsed": true
   },
   "outputs": [
    {
     "data": {
      "text/plain": [
       "['maryland',\n",
       " 'ucla',\n",
       " 'mississippi-state',\n",
       " 'kentucky',\n",
       " 'stanford',\n",
       " 'texas',\n",
       " 'texas-tech',\n",
       " 'iowa-state',\n",
       " 'santa-cruz-warriors-(g-league)',\n",
       " 'michigan',\n",
       " 'washington',\n",
       " 'rytas-vilnius-(lithuania)',\n",
       " 'purdue',\n",
       " 'mega-bemax-(serbia)',\n",
       " 'wyoming',\n",
       " 'nevada',\n",
       " 'north-carolina',\n",
       " 'nebraska',\n",
       " 'usc',\n",
       " 'partizan-belgrade-(serbia)',\n",
       " 'indiana',\n",
       " 'hofstra',\n",
       " 'villanova',\n",
       " 'oregon',\n",
       " 'georgia',\n",
       " 'yale',\n",
       " 'virginia-tech',\n",
       " 'murray-state',\n",
       " 'sesi/franca-(brazil)',\n",
       " 'belmont',\n",
       " 'miami',\n",
       " 'charleston',\n",
       " 'florida-state',\n",
       " 'virginia',\n",
       " 'gonzaga',\n",
       " 'tennessee',\n",
       " 'duke',\n",
       " 'olimpija-ljubljana-(slovenia)',\n",
       " 'lsu',\n",
       " 'limoges-csp-(france)',\n",
       " 'san-diego-state',\n",
       " 'princeton-hs-(sharonville,-ohio;-hs-sr.)',\n",
       " 'arkansas',\n",
       " 'vanderbilt',\n",
       " 'auburn']"
      ]
     },
     "execution_count": 63,
     "metadata": {},
     "output_type": "execute_result"
    }
   ],
   "source": [
    "rookie_schools"
   ]
  },
  {
   "cell_type": "markdown",
   "metadata": {},
   "source": [
    "scrape for college stats on upcoming rookies"
   ]
  },
  {
   "cell_type": "code",
   "execution_count": 70,
   "metadata": {},
   "outputs": [],
   "source": [
    "def get_college_players(): # function to grab every player and his stats from the page as a dictionary, and store as list\n",
    "    \n",
    "    # player dictionaries container\n",
    "    players = []\n",
    "    \n",
    "    # loop through each school page to grab each player at each school\n",
    "    for school in tqdm(rookie_schools):\n",
    "        try:\n",
    "            url = f'https://www.sports-reference.com/cbb/schools/{school}/2019.html'\n",
    "            soup = getAndParseUrl(url)\n",
    "\n",
    "            # select each td tag under tr tag in the per_game table: each td tag in player_soup is a player's stat, all stored as a list\n",
    "            player_soup = soup.select('#per_poss tr td')\n",
    "\n",
    "            # create slicing points to group the 26 elements(html tags) into single list(player)\n",
    "            j=0\n",
    "            k=26\n",
    "\n",
    "            # len(player_soup) gives the number of stats on each page\n",
    "            # divide that by 27 to get number of players per page\n",
    "            for i in range(int(len(player_soup)/26)):\n",
    "\n",
    "                # each player container (player with stats)\n",
    "                each_player = {}\n",
    "\n",
    "                # p is a single player with stats sliced from player_soup\n",
    "                p = player_soup[j:k]\n",
    "\n",
    "                #loop through p to create dictionary of each player\n",
    "                for stat in p:\n",
    "                    # set each stat equal to the tag text (i.e. pts_per_g = 15.4)\n",
    "                    each_player[stat.attrs['data-stat']] = stat.text\n",
    "\n",
    "                # add each player dictionary to the players container\n",
    "                players.append(each_player)\n",
    "\n",
    "                # move slicer to next player\n",
    "                j+=26\n",
    "                k+=26\n",
    "        except:\n",
    "            continue\n",
    "\n",
    "    return players"
   ]
  },
  {
   "cell_type": "code",
   "execution_count": 71,
   "metadata": {
    "collapsed": true
   },
   "outputs": [
    {
     "name": "stderr",
     "output_type": "stream",
     "text": [
      "\n",
      "\n",
      "\n",
      "  0%|          | 0/45 [00:00<?, ?it/s]\u001b[A\u001b[A\u001b[A\n",
      "\n",
      "\n",
      "  2%|▏         | 1/45 [00:01<01:20,  1.84s/it]\u001b[A\u001b[A\u001b[A\n",
      "\n",
      "\n",
      "  4%|▍         | 2/45 [00:03<01:19,  1.85s/it]\u001b[A\u001b[A\u001b[A\n",
      "\n",
      "\n",
      "  7%|▋         | 3/45 [00:05<01:15,  1.80s/it]\u001b[A\u001b[A\u001b[A\n",
      "\n",
      "\n",
      "  9%|▉         | 4/45 [00:06<01:10,  1.72s/it]\u001b[A\u001b[A\u001b[A\n",
      "\n",
      "\n",
      " 11%|█         | 5/45 [00:08<01:10,  1.76s/it]\u001b[A\u001b[A\u001b[A\n",
      "\n",
      "\n",
      " 13%|█▎        | 6/45 [00:10<01:07,  1.72s/it]\u001b[A\u001b[A\u001b[A\n",
      "\n",
      "\n",
      " 16%|█▌        | 7/45 [00:11<01:03,  1.67s/it]\u001b[A\u001b[A\u001b[A\n",
      "\n",
      "\n",
      " 18%|█▊        | 8/45 [00:13<01:00,  1.64s/it]\u001b[A\u001b[A\u001b[A\n",
      "\n",
      "\n",
      " 20%|██        | 9/45 [00:14<00:55,  1.54s/it]\u001b[A\u001b[A\u001b[A\n",
      "\n",
      "\n",
      " 22%|██▏       | 10/45 [00:16<00:58,  1.67s/it]\u001b[A\u001b[A\u001b[A\n",
      "\n",
      "\n",
      " 24%|██▍       | 11/45 [00:18<00:55,  1.64s/it]\u001b[A\u001b[A\u001b[A\n",
      "\n",
      "\n",
      " 27%|██▋       | 12/45 [00:19<00:51,  1.55s/it]\u001b[A\u001b[A\u001b[A\n",
      "\n",
      "\n",
      " 29%|██▉       | 13/45 [00:21<00:49,  1.54s/it]\u001b[A\u001b[A\u001b[A\n",
      "\n",
      "\n",
      " 31%|███       | 14/45 [00:22<00:45,  1.46s/it]\u001b[A\u001b[A\u001b[A\n",
      "\n",
      "\n",
      " 33%|███▎      | 15/45 [00:24<00:44,  1.49s/it]\u001b[A\u001b[A\u001b[A\n",
      "\n",
      "\n",
      " 36%|███▌      | 16/45 [00:25<00:43,  1.50s/it]\u001b[A\u001b[A\u001b[A\n",
      "\n",
      "\n",
      " 38%|███▊      | 17/45 [00:27<00:42,  1.51s/it]\u001b[A\u001b[A\u001b[A\n",
      "\n",
      "\n",
      " 40%|████      | 18/45 [00:28<00:41,  1.55s/it]\u001b[A\u001b[A\u001b[A\n",
      "\n",
      "\n",
      " 42%|████▏     | 19/45 [00:30<00:38,  1.48s/it]\u001b[A\u001b[A\u001b[A\n",
      "\n",
      "\n",
      " 44%|████▍     | 20/45 [00:31<00:35,  1.42s/it]\u001b[A\u001b[A\u001b[A\n",
      "\n",
      "\n",
      " 47%|████▋     | 21/45 [00:32<00:35,  1.48s/it]\u001b[A\u001b[A\u001b[A\n",
      "\n",
      "\n",
      " 49%|████▉     | 22/45 [00:34<00:34,  1.49s/it]\u001b[A\u001b[A\u001b[A\n",
      "\n",
      "\n",
      " 51%|█████     | 23/45 [00:36<00:32,  1.50s/it]\u001b[A\u001b[A\u001b[A\n",
      "\n",
      "\n",
      " 53%|█████▎    | 24/45 [00:37<00:31,  1.50s/it]\u001b[A\u001b[A\u001b[A\n",
      "\n",
      "\n",
      " 56%|█████▌    | 25/45 [00:39<00:31,  1.55s/it]\u001b[A\u001b[A\u001b[A\n",
      "\n",
      "\n",
      " 58%|█████▊    | 26/45 [00:40<00:29,  1.54s/it]\u001b[A\u001b[A\u001b[A\n",
      "\n",
      "\n",
      " 60%|██████    | 27/45 [00:42<00:28,  1.56s/it]\u001b[A\u001b[A\u001b[A\n",
      "\n",
      "\n",
      " 62%|██████▏   | 28/45 [00:43<00:26,  1.55s/it]\u001b[A\u001b[A\u001b[A\n",
      "\n",
      "\n",
      " 64%|██████▍   | 29/45 [00:45<00:23,  1.50s/it]\u001b[A\u001b[A\u001b[A\n",
      "\n",
      "\n",
      " 67%|██████▋   | 30/45 [00:46<00:23,  1.55s/it]\u001b[A\u001b[A\u001b[A\n",
      "\n",
      "\n",
      " 69%|██████▉   | 31/45 [00:48<00:20,  1.47s/it]\u001b[A\u001b[A\u001b[A\n",
      "\n",
      "\n",
      " 71%|███████   | 32/45 [00:49<00:18,  1.41s/it]\u001b[A\u001b[A\u001b[A\n",
      "\n",
      "\n",
      " 73%|███████▎  | 33/45 [00:51<00:17,  1.45s/it]\u001b[A\u001b[A\u001b[A\n",
      "\n",
      "\n",
      " 76%|███████▌  | 34/45 [00:52<00:16,  1.47s/it]\u001b[A\u001b[A\u001b[A\n",
      "\n",
      "\n",
      " 78%|███████▊  | 35/45 [00:54<00:14,  1.49s/it]\u001b[A\u001b[A\u001b[A\n",
      "\n",
      "\n",
      " 80%|████████  | 36/45 [00:55<00:13,  1.53s/it]\u001b[A\u001b[A\u001b[A\n",
      "\n",
      "\n",
      " 82%|████████▏ | 37/45 [00:57<00:12,  1.52s/it]\u001b[A\u001b[A\u001b[A\n",
      "\n",
      "\n",
      " 84%|████████▍ | 38/45 [00:58<00:10,  1.46s/it]\u001b[A\u001b[A\u001b[A\n",
      "\n",
      "\n",
      " 87%|████████▋ | 39/45 [00:59<00:08,  1.41s/it]\u001b[A\u001b[A\u001b[A\n",
      "\n",
      "\n",
      " 89%|████████▉ | 40/45 [01:01<00:07,  1.46s/it]\u001b[A\u001b[A\u001b[A\n",
      "\n",
      "\n",
      " 91%|█████████ | 41/45 [01:02<00:05,  1.48s/it]\u001b[A\u001b[A\u001b[A\n",
      "\n",
      "\n",
      " 93%|█████████▎| 42/45 [01:04<00:04,  1.42s/it]\u001b[A\u001b[A\u001b[A\n",
      "\n",
      "\n",
      " 96%|█████████▌| 43/45 [01:05<00:02,  1.47s/it]\u001b[A\u001b[A\u001b[A\n",
      "\n",
      "\n",
      " 98%|█████████▊| 44/45 [01:07<00:01,  1.48s/it]\u001b[A\u001b[A\u001b[A\n",
      "\n",
      "\n",
      "100%|██████████| 45/45 [01:08<00:00,  1.50s/it]\u001b[A\u001b[A\u001b[A"
     ]
    }
   ],
   "source": [
    "rookies = get_college_players()"
   ]
  },
  {
   "cell_type": "code",
   "execution_count": 76,
   "metadata": {},
   "outputs": [
    {
     "data": {
      "text/plain": [
       "[]"
      ]
     },
     "execution_count": 76,
     "metadata": {},
     "output_type": "execute_result"
    }
   ],
   "source": [
    "rookies"
   ]
  },
  {
   "cell_type": "code",
   "execution_count": 72,
   "metadata": {},
   "outputs": [],
   "source": [
    "# set up the rookies dataframe to have the same order of columns as the nba players dataframe\n",
    "# college stats are missing some columns that nba dataframe has\n",
    "rookie_df = pd.DataFrame(rookies, columns=[x for x in list(df.columns) if x not in ['efg_pct','ts_pct','age','team_id','lg_id','per','season']])"
   ]
  },
  {
   "cell_type": "code",
   "execution_count": 73,
   "metadata": {},
   "outputs": [],
   "source": [
    "# change numerical data from strings to ints/floats\n",
    "for col in rookie_df.columns:\n",
    "    try:\n",
    "        rookie_df[col] = pd.to_numeric(rookie_df[col])\n",
    "    except:\n",
    "        pass # this is to skip over strings that are not numerical"
   ]
  },
  {
   "cell_type": "code",
   "execution_count": 74,
   "metadata": {
    "scrolled": true
   },
   "outputs": [],
   "source": [
    "# filter out all college players that weren't drafted into nba in 2019\n",
    "#!!!!! ISSUE: MISSING ROOKIE DATA FOR THE ROOKIES NOT DRAFTED FROM COLLEGE (i.e. overseas, G-league, etc.) !!!!!\n",
    "rookie_df = rookie_df.loc[rookie_df['player'].isin(rookie_names)].sort_values(by='player').reset_index().drop('index',axis=1)"
   ]
  },
  {
   "cell_type": "code",
   "execution_count": 75,
   "metadata": {},
   "outputs": [
    {
     "data": {
      "text/html": [
       "<div>\n",
       "<style scoped>\n",
       "    .dataframe tbody tr th:only-of-type {\n",
       "        vertical-align: middle;\n",
       "    }\n",
       "\n",
       "    .dataframe tbody tr th {\n",
       "        vertical-align: top;\n",
       "    }\n",
       "\n",
       "    .dataframe thead th {\n",
       "        text-align: right;\n",
       "    }\n",
       "</style>\n",
       "<table border=\"1\" class=\"dataframe\">\n",
       "  <thead>\n",
       "    <tr style=\"text-align: right;\">\n",
       "      <th></th>\n",
       "      <th>player</th>\n",
       "      <th>g</th>\n",
       "      <th>gs</th>\n",
       "      <th>mp</th>\n",
       "      <th>fg_per_poss</th>\n",
       "      <th>fga_per_poss</th>\n",
       "      <th>fg2_per_poss</th>\n",
       "      <th>fg2a_per_poss</th>\n",
       "      <th>fg3_per_poss</th>\n",
       "      <th>fg3a_per_poss</th>\n",
       "      <th>ft_per_poss</th>\n",
       "      <th>fta_per_poss</th>\n",
       "      <th>orb_per_poss</th>\n",
       "      <th>drb_per_poss</th>\n",
       "      <th>trb_per_poss</th>\n",
       "      <th>ast_per_poss</th>\n",
       "      <th>stl_per_poss</th>\n",
       "      <th>blk_per_poss</th>\n",
       "      <th>tov_per_poss</th>\n",
       "      <th>pf_per_poss</th>\n",
       "      <th>pts_per_poss</th>\n",
       "      <th>fg_pct</th>\n",
       "      <th>fg2_pct</th>\n",
       "      <th>fg3_pct</th>\n",
       "      <th>ft_pct</th>\n",
       "    </tr>\n",
       "  </thead>\n",
       "  <tbody>\n",
       "  </tbody>\n",
       "</table>\n",
       "</div>"
      ],
      "text/plain": [
       "Empty DataFrame\n",
       "Columns: [player, g, gs, mp, fg_per_poss, fga_per_poss, fg2_per_poss, fg2a_per_poss, fg3_per_poss, fg3a_per_poss, ft_per_poss, fta_per_poss, orb_per_poss, drb_per_poss, trb_per_poss, ast_per_poss, stl_per_poss, blk_per_poss, tov_per_poss, pf_per_poss, pts_per_poss, fg_pct, fg2_pct, fg3_pct, ft_pct]\n",
       "Index: []"
      ]
     },
     "execution_count": 75,
     "metadata": {},
     "output_type": "execute_result"
    }
   ],
   "source": [
    "rookie_df.head(1)"
   ]
  },
  {
   "cell_type": "code",
   "execution_count": 430,
   "metadata": {},
   "outputs": [],
   "source": [
    "# saving rookie df as json file\n",
    "rookie_df.to_json('rookie_df.json')"
   ]
  },
  {
   "cell_type": "markdown",
   "metadata": {},
   "source": [
    "##### Adding missing columns to rookie_df to match the nba df\n",
    "some columns are calculable"
   ]
  },
  {
   "cell_type": "markdown",
   "metadata": {},
   "source": [
    "missing: ['efg_pct','ts_pct','age','team_id','lg_id','per','season']"
   ]
  },
  {
   "cell_type": "code",
   "execution_count": 432,
   "metadata": {},
   "outputs": [],
   "source": [
    "# calculating effective field goal percentage for college players (efg_pct)\n",
    "rookie_df['efg_pct'] = (rookie_df.fg2_per_g + (1.5*rookie_df.fg3_per_g))/rookie_df.fga_per_g"
   ]
  },
  {
   "cell_type": "code",
   "execution_count": 439,
   "metadata": {},
   "outputs": [],
   "source": [
    "# calculating true shooting percentage (ts_pct)\n",
    "rookie_df['ts_pct'] = rookie_df.pts_per_g/(2*(rookie_df.fga_per_g + (.44*rookie_df.fta_per_g)))"
   ]
  },
  {
   "cell_type": "code",
   "execution_count": 440,
   "metadata": {},
   "outputs": [],
   "source": [
    "# # calculating player efficiency rating (per) in accordance with basketball-reference.com's formula\n",
    "# # this is the url for calculating per: 'https://www.basketball-reference.com/about/per.html'\n",
    "# factor = (2/3) - (.5*())"
   ]
  },
  {
   "cell_type": "code",
   "execution_count": null,
   "metadata": {},
   "outputs": [],
   "source": []
  }
 ],
 "metadata": {
  "kernelspec": {
   "display_name": "Python 3",
   "language": "python",
   "name": "python3"
  },
  "language_info": {
   "codemirror_mode": {
    "name": "ipython",
    "version": 3
   },
   "file_extension": ".py",
   "mimetype": "text/x-python",
   "name": "python",
   "nbconvert_exporter": "python",
   "pygments_lexer": "ipython3",
   "version": "3.7.3"
  }
 },
 "nbformat": 4,
 "nbformat_minor": 2
}
