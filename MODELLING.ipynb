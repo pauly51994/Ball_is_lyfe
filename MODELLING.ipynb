{
 "cells": [
  {
   "cell_type": "code",
   "execution_count": 179,
   "metadata": {},
   "outputs": [],
   "source": [
    "from sklearn.preprocessing import MinMaxScaler\n",
    "from sklearn.linear_model import Lasso, Ridge, LinearRegression\n",
    "from sklearn.model_selection import train_test_split\n",
    "from sklearn.metrics import mean_squared_error, mean_squared_log_error\n",
    "\n",
    "import pandas as pd\n",
    "import numpy as np\n",
    "import matplotlib.pyplot as plt\n",
    "import seaborn as sns\n",
    "\n",
    "pd.set_option('display.max_columns',100)"
   ]
  },
  {
   "cell_type": "code",
   "execution_count": 192,
   "metadata": {},
   "outputs": [],
   "source": [
    "final_df = pd.read_pickle('final_df.pickle')\n",
    "final_df = final_df[final_df.tm != 'TOT']\n",
    "final_df = pd.get_dummies(data=final_df, columns=['pos'])\n",
    "\n",
    "final_df = final_df.groupby(['season','player']).sum().reset_index()\n",
    "final_df.rename(columns={'year':'draft_year'}, inplace=True)\n",
    "final_df = final_df.drop(['rk', 'from', 'to', 'per'],axis=1)"
   ]
  },
  {
   "cell_type": "code",
   "execution_count": 194,
   "metadata": {},
   "outputs": [
    {
     "name": "stderr",
     "output_type": "stream",
     "text": [
      "/Users/paulyun/anaconda3/lib/python3.7/site-packages/sklearn/preprocessing/data.py:334: DataConversionWarning: Data with input dtype uint8, int64, float64 were all converted to float64 by MinMaxScaler.\n",
      "  return self.partial_fit(X, y)\n"
     ]
    }
   ],
   "source": [
    "y = final_df['ws']\n",
    "X = final_df.drop(['player','gs','ws','ftsy_pts','ws/48'],axis=1)\n",
    "\n",
    "scale = MinMaxScaler()\n",
    "transformed = scale.fit_transform(X)\n",
    "X = pd.DataFrame(transformed, columns = X.columns)"
   ]
  },
  {
   "cell_type": "code",
   "execution_count": 195,
   "metadata": {
    "code_folding": []
   },
   "outputs": [],
   "source": [
    "# Perform test train split\n",
    "X_train , X_test, y_train, y_test = train_test_split(X, y, test_size=0.3, random_state=12)"
   ]
  },
  {
   "cell_type": "markdown",
   "metadata": {},
   "source": [
    "### Base prediction: Win share actual - mean win share"
   ]
  },
  {
   "cell_type": "code",
   "execution_count": 218,
   "metadata": {},
   "outputs": [
    {
     "data": {
      "text/plain": [
       "10.012270980790706"
      ]
     },
     "execution_count": 218,
     "metadata": {},
     "output_type": "execute_result"
    }
   ],
   "source": [
    "np.mean((final_df.ws-final_df.ws.mean())**2)"
   ]
  },
  {
   "cell_type": "markdown",
   "metadata": {},
   "source": [
    "### First Models"
   ]
  },
  {
   "cell_type": "code",
   "execution_count": 196,
   "metadata": {
    "code_folding": []
   },
   "outputs": [
    {
     "data": {
      "text/plain": [
       "LinearRegression(copy_X=True, fit_intercept=True, n_jobs=None,\n",
       "         normalize=False)"
      ]
     },
     "execution_count": 196,
     "metadata": {},
     "output_type": "execute_result"
    }
   ],
   "source": [
    "# Build a Ridge, Lasso and regular linear regression model. \n",
    "# Note that in scikit learn, the regularization parameter is denoted by alpha (and not lambda)\n",
    "ridge1 = Ridge(alpha=0.5)\n",
    "ridge1.fit(X_train, y_train)\n",
    "\n",
    "lasso1 = Lasso(alpha=0.5)\n",
    "lasso1.fit(X_train, y_train)\n",
    "\n",
    "lin = LinearRegression()\n",
    "lin.fit(X_train, y_train)"
   ]
  },
  {
   "cell_type": "code",
   "execution_count": 197,
   "metadata": {
    "code_folding": []
   },
   "outputs": [],
   "source": [
    "# Create preditions for training and test sets \n",
    "y_h_ridge_train1 = ridge1.predict(X_train)\n",
    "y_h_ridge_test1 = ridge1.predict(X_test)\n",
    "\n",
    "y_h_lasso_train1 = lasso1.predict(X_train)\n",
    "y_h_lasso_test1 = lasso1.predict(X_test)\n",
    "\n",
    "y_h_lin_train = lin.predict(X_train)\n",
    "y_h_lin_test = lin.predict(X_test)"
   ]
  },
  {
   "cell_type": "code",
   "execution_count": 198,
   "metadata": {
    "code_folding": []
   },
   "outputs": [
    {
     "name": "stdout",
     "output_type": "stream",
     "text": [
      "Train Error Ridge Model 44.789669629150744\n",
      "Test Error Ridge Model 19.008512927811644\n",
      "\n",
      "\n",
      "Train Error Lasso Model 99917.86182071158\n",
      "Test Error Lasso Model 44008.702344193094\n",
      "\n",
      "\n",
      "Train Error Unpenalized Linear Model 28.132605617363456\n",
      "Test Error Unpenalized Linear Model 11.636560883181387\n"
     ]
    }
   ],
   "source": [
    "# Print errors \n",
    "print('Train Error Ridge Model', np.sum((y_train - y_h_ridge_train1)**2))\n",
    "print('Test Error Ridge Model', np.sum((y_test - y_h_ridge_test1)**2))\n",
    "print('\\n')\n",
    "\n",
    "print('Train Error Lasso Model', np.sum((y_train - y_h_lasso_train1)**2))\n",
    "print('Test Error Lasso Model', np.sum((y_test - y_h_lasso_test1)**2))\n",
    "print('\\n')\n",
    "\n",
    "print('Train Error Unpenalized Linear Model', np.sum((y_train - lin.predict(X_train))**2))\n",
    "print('Test Error Unpenalized Linear Model', np.sum((y_test - lin.predict(X_test))**2))"
   ]
  },
  {
   "cell_type": "code",
   "execution_count": 199,
   "metadata": {},
   "outputs": [
    {
     "name": "stdout",
     "output_type": "stream",
     "text": [
      "Training r^2: 0.9997184426777681\n",
      "Testing r^2: 0.9997355816227331\n",
      "Training MSE: 0.0027959258216421643\n",
      "Testing MSE: 0.0026980201444890767\n"
     ]
    }
   ],
   "source": [
    "print('Training r^2:', lin.score(X_train, y_train))\n",
    "print('Testing r^2:', lin.score(X_test, y_test))\n",
    "print('Training MSE:', mean_squared_error(y_train, lin.predict(X_train)))\n",
    "print('Testing MSE:', mean_squared_error(y_test, lin.predict(X_test)))"
   ]
  },
  {
   "cell_type": "code",
   "execution_count": 200,
   "metadata": {},
   "outputs": [
    {
     "name": "stdout",
     "output_type": "stream",
     "text": [
      "Training r^2: 0.999551735107087\n",
      "Testing r^2: 0.9995680682468742\n",
      "Training MSE: 0.004451368478349309\n",
      "Testing MSE: 0.00440726012701406\n"
     ]
    }
   ],
   "source": [
    "print('Training r^2:', ridge1.score(X_train, y_train))\n",
    "print('Testing r^2:', ridge1.score(X_test, y_test))\n",
    "print('Training MSE:', mean_squared_error(y_train, ridge1.predict(X_train)))\n",
    "print('Testing MSE:', mean_squared_error(y_test, ridge1.predict(X_test)))"
   ]
  },
  {
   "cell_type": "code",
   "execution_count": 201,
   "metadata": {},
   "outputs": [
    {
     "name": "stdout",
     "output_type": "stream",
     "text": [
      "Training r^2: 0.0\n",
      "Testing r^2: -1.2785245767643616e-05\n",
      "Training MSE: 9.930218825353963\n",
      "Testing MSE: 10.203733444051263\n"
     ]
    }
   ],
   "source": [
    "print('Training r^2:', lasso1.score(X_train, y_train))\n",
    "print('Testing r^2:', lasso1.score(X_test, y_test))\n",
    "print('Training MSE:', mean_squared_error(y_train, lasso1.predict(X_train)))\n",
    "print('Testing MSE:', mean_squared_error(y_test, lasso1.predict(X_test)))"
   ]
  },
  {
   "cell_type": "code",
   "execution_count": 202,
   "metadata": {
    "code_folding": []
   },
   "outputs": [
    {
     "name": "stdout",
     "output_type": "stream",
     "text": [
      "Ridge parameter coefficients: [-2.74905222e-03  8.62908057e-02  1.48406968e-01  4.56529820e-01\n",
      "  7.41611665e-01 -1.09762534e+00 -1.35629668e-02  6.53973421e-01\n",
      " -7.10735115e-01 -5.48509012e-04  5.41998432e-01 -8.56349846e-01\n",
      "  2.06554741e-02  2.98559019e-02  8.43930131e-01 -3.06912624e-01\n",
      "  1.64748145e-02  1.48691073e-01  5.18754354e-02  8.22362775e-02\n",
      "  4.94949054e-01 -1.86937148e-01 -1.72761550e-01 -8.82398827e-01\n",
      " -7.31349454e-03  9.05307926e-01  9.73544529e-03 -2.68274139e-02\n",
      "  1.52105821e-02 -1.12390753e-01 -1.98413881e-02  9.64055039e-02\n",
      " -8.02709951e-02  1.19037642e-01  1.44727012e-01 -1.08551279e-02\n",
      "  2.97824400e-02  1.76164681e+01  1.34377116e+01  1.29891810e-01\n",
      " -2.44367009e-01  1.20198585e-02  1.23027958e+00 -1.50565402e-01\n",
      " -1.65814743e-02  2.09236136e-02 -3.20524069e-02 -2.94117174e-02\n",
      "  4.14563106e-02 -8.38407667e-02 -3.78977844e-02]\n",
      "Lasso parameter coefficients: [-0. -0.  0.  0.  0.  0.  0.  0.  0.  0.  0.  0.  0.  0.  0.  0.  0.  0.\n",
      "  0.  0.  0.  0.  0.  0.  0.  0.  0. -0.  0. -0.  0.  0.  0.  0.  0. -0.\n",
      "  0.  0.  0.  0.  0.  0.  0. -0. -0.  0. -0. -0. -0. -0. -0.]\n",
      "Linear model parameter coefficients: [-1.75656129e-02  6.42227817e-02  4.30528541e-03  5.39119501e-02\n",
      "  4.97237444e-02 -8.51623908e-02 -1.56944368e-01  8.47723351e-02\n",
      " -8.05255288e-02  4.27620074e-04  2.24801491e-02 -5.61941935e-02\n",
      "  5.17008256e-02  1.66192500e-01  9.96333712e-02 -8.02448476e-02\n",
      " -5.89281808e-03  1.86818429e-02  1.46025606e-03  6.40419232e-03\n",
      "  5.95797300e-02 -4.45610111e-02  4.87136926e-02 -5.74423570e-02\n",
      " -5.26015362e-03  7.77445123e-02 -2.30334344e-02 -3.21440615e-02\n",
      "  4.51407559e-02 -2.69390963e-01 -2.38013115e-01  3.74527549e-01\n",
      " -2.59438225e-02  4.35664211e-02 -1.34115377e-02 -2.65341228e-02\n",
      "  2.62850532e-02  1.92663170e+01  1.43169641e+01  1.91105333e-01\n",
      "  8.25456715e-02 -2.60628960e-01  1.02480371e-01  3.70913075e+00\n",
      "  5.52155329e-04  4.69534431e-03 -4.54934818e+00 -3.02605097e+00\n",
      " -2.26574796e+00 -3.79130249e+00 -3.03218665e+00]\n"
     ]
    }
   ],
   "source": [
    "# Print coefficients \n",
    "print('Ridge parameter coefficients:', ridge1.coef_)\n",
    "print('Lasso parameter coefficients:', lasso1.coef_)\n",
    "print('Linear model parameter coefficients:', lin.coef_)"
   ]
  },
  {
   "cell_type": "code",
   "execution_count": null,
   "metadata": {},
   "outputs": [],
   "source": []
  },
  {
   "cell_type": "markdown",
   "metadata": {},
   "source": [
    "### Second set of Models"
   ]
  },
  {
   "cell_type": "code",
   "execution_count": 203,
   "metadata": {
    "code_folding": []
   },
   "outputs": [
    {
     "data": {
      "text/plain": [
       "LinearRegression(copy_X=True, fit_intercept=True, n_jobs=None,\n",
       "         normalize=False)"
      ]
     },
     "execution_count": 203,
     "metadata": {},
     "output_type": "execute_result"
    }
   ],
   "source": [
    "# Build a Ridge, Lasso and regular linear regression model. \n",
    "# Note that in scikit learn, the regularization parameter is denoted by alpha (and not lambda)\n",
    "ridge2 = Ridge(alpha=0.3)\n",
    "ridge2.fit(X_train, y_train)\n",
    "\n",
    "lasso2 = Lasso(alpha=0.3)\n",
    "lasso2.fit(X_train, y_train)\n",
    "\n",
    "lin = LinearRegression()\n",
    "lin.fit(X_train, y_train)"
   ]
  },
  {
   "cell_type": "code",
   "execution_count": 204,
   "metadata": {
    "code_folding": []
   },
   "outputs": [],
   "source": [
    "# Create preditions for training and test sets \n",
    "y_h_ridge_train2 = ridge2.predict(X_train)\n",
    "y_h_ridge_test2 = ridge2.predict(X_test)\n",
    "\n",
    "y_h_lasso_train2 = lasso2.predict(X_train)\n",
    "y_h_lasso_test2 = lasso2.predict(X_test)\n",
    "\n",
    "y_h_lin_train = lin.predict(X_train)\n",
    "y_h_lin_test = lin.predict(X_test)"
   ]
  },
  {
   "cell_type": "code",
   "execution_count": 205,
   "metadata": {
    "code_folding": []
   },
   "outputs": [
    {
     "name": "stdout",
     "output_type": "stream",
     "text": [
      "Train Error Ridge Model 35.325590958610796\n",
      "Test Error Ridge Model 14.807650322799967\n",
      "\n",
      "\n",
      "Train Error Lasso Model 59914.212023413435\n",
      "Test Error Lasso Model 26697.93393361184\n",
      "\n",
      "\n",
      "Train Error Unpenalized Linear Model 28.132605617363456\n",
      "Test Error Unpenalized Linear Model 11.636560883181387\n"
     ]
    }
   ],
   "source": [
    "# Print errors \n",
    "print('Train Error Ridge Model', np.sum((y_train - y_h_ridge_train2)**2))\n",
    "print('Test Error Ridge Model', np.sum((y_test - y_h_ridge_test2)**2))\n",
    "print('\\n')\n",
    "\n",
    "print('Train Error Lasso Model', np.sum((y_train - y_h_lasso_train2)**2))\n",
    "print('Test Error Lasso Model', np.sum((y_test - y_h_lasso_test2)**2))\n",
    "print('\\n')\n",
    "\n",
    "print('Train Error Unpenalized Linear Model', np.sum((y_train - lin.predict(X_train))**2))\n",
    "print('Test Error Unpenalized Linear Model', np.sum((y_test - lin.predict(X_test))**2))"
   ]
  },
  {
   "cell_type": "code",
   "execution_count": 206,
   "metadata": {},
   "outputs": [
    {
     "name": "stdout",
     "output_type": "stream",
     "text": [
      "Training r^2: 0.9996464536939151\n",
      "Testing r^2: 0.9996635247382112\n",
      "Training MSE: 0.0035107921843183063\n",
      "Testing MSE: 0.003433259986737762\n"
     ]
    }
   ],
   "source": [
    "print('Training r^2:', ridge2.score(X_train, y_train))\n",
    "print('Testing r^2:', ridge2.score(X_test, y_test))\n",
    "print('Training MSE:', mean_squared_error(y_train, ridge2.predict(X_train)))\n",
    "print('Testing MSE:', mean_squared_error(y_test, ridge2.predict(X_test)))"
   ]
  },
  {
   "cell_type": "code",
   "execution_count": 207,
   "metadata": {},
   "outputs": [
    {
     "name": "stdout",
     "output_type": "stream",
     "text": [
      "Training r^2: 0.40036535078261604\n",
      "Testing r^2: 0.39334100186706633\n",
      "Training MSE: 5.954503281992987\n",
      "Testing MSE: 6.190107566337083\n"
     ]
    }
   ],
   "source": [
    "print('Training r^2:', lasso2.score(X_train, y_train))\n",
    "print('Testing r^2:', lasso2.score(X_test, y_test))\n",
    "print('Training MSE:', mean_squared_error(y_train, lasso2.predict(X_train)))\n",
    "print('Testing MSE:', mean_squared_error(y_test, lasso2.predict(X_test)))"
   ]
  },
  {
   "cell_type": "code",
   "execution_count": 208,
   "metadata": {
    "code_folding": []
   },
   "outputs": [
    {
     "name": "stdout",
     "output_type": "stream",
     "text": [
      "Ridge parameter coefficients: [-2.21676793e-03  8.13812336e-02  9.72727057e-02  3.31936966e-01\n",
      "  5.68309153e-01 -8.53520517e-01 -1.85901544e-02  5.27499299e-01\n",
      " -5.65103178e-01 -1.16778502e-04  4.06418759e-01 -6.60883875e-01\n",
      "  2.50487086e-02  2.99662704e-02  6.59974177e-01 -2.84639635e-01\n",
      "  7.97787459e-03  1.23764589e-01  2.16097533e-02  5.16973703e-02\n",
      "  3.75214591e-01 -1.42994720e-01 -1.11349807e-01 -6.36811204e-01\n",
      " -7.88639157e-03  7.00801817e-01 -2.16848414e-02 -2.13319925e-02\n",
      "  2.51068467e-02 -1.16919599e-01 -3.06921317e-02  9.99654608e-02\n",
      " -6.22898548e-02  1.03051108e-01  1.16054546e-01 -8.59703006e-03\n",
      "  3.38250719e-02  1.81331714e+01  1.37686838e+01  1.04701251e-01\n",
      " -1.95840603e-01  9.49893159e-03  8.33628543e-01 -1.05283926e-01\n",
      " -1.53964922e-02  7.87164778e-03 -2.66772193e-02 -1.99414483e-02\n",
      "  2.66717385e-02 -5.81310693e-02 -2.75644709e-02]\n",
      "Lasso parameter coefficients: [ 0.         -0.          0.          0.          0.          0.\n",
      "  0.          0.          0.          0.          0.          0.\n",
      "  0.          0.          0.          0.          0.          0.\n",
      "  0.          0.          0.          0.          0.          0.\n",
      "  0.          5.33938547  0.         -0.          0.          0.\n",
      "  0.          0.          0.          0.          0.         -0.\n",
      "  0.          0.          0.          0.          0.          0.\n",
      "  0.         -0.         -0.          0.          0.          0.\n",
      " -0.         -0.         -0.        ]\n",
      "Linear model parameter coefficients: [-1.75656129e-02  6.42227817e-02  4.30528541e-03  5.39119501e-02\n",
      "  4.97237444e-02 -8.51623908e-02 -1.56944368e-01  8.47723351e-02\n",
      " -8.05255288e-02  4.27620074e-04  2.24801491e-02 -5.61941935e-02\n",
      "  5.17008256e-02  1.66192500e-01  9.96333712e-02 -8.02448476e-02\n",
      " -5.89281808e-03  1.86818429e-02  1.46025606e-03  6.40419232e-03\n",
      "  5.95797300e-02 -4.45610111e-02  4.87136926e-02 -5.74423570e-02\n",
      " -5.26015362e-03  7.77445123e-02 -2.30334344e-02 -3.21440615e-02\n",
      "  4.51407559e-02 -2.69390963e-01 -2.38013115e-01  3.74527549e-01\n",
      " -2.59438225e-02  4.35664211e-02 -1.34115377e-02 -2.65341228e-02\n",
      "  2.62850532e-02  1.92663170e+01  1.43169641e+01  1.91105333e-01\n",
      "  8.25456715e-02 -2.60628960e-01  1.02480371e-01  3.70913075e+00\n",
      "  5.52155329e-04  4.69534431e-03 -4.54934818e+00 -3.02605097e+00\n",
      " -2.26574796e+00 -3.79130249e+00 -3.03218665e+00]\n"
     ]
    }
   ],
   "source": [
    "# Print coefficients \n",
    "print('Ridge parameter coefficients:', ridge2.coef_)\n",
    "print('Lasso parameter coefficients:', lasso2.coef_)\n",
    "print('Linear model parameter coefficients:', lin.coef_)"
   ]
  },
  {
   "cell_type": "markdown",
   "metadata": {},
   "source": [
    "### IDK"
   ]
  },
  {
   "cell_type": "code",
   "execution_count": null,
   "metadata": {},
   "outputs": [],
   "source": []
  },
  {
   "cell_type": "code",
   "execution_count": null,
   "metadata": {},
   "outputs": [],
   "source": []
  },
  {
   "cell_type": "code",
   "execution_count": 209,
   "metadata": {
    "code_folding": []
   },
   "outputs": [
    {
     "data": {
      "text/plain": [
       "LinearRegression(copy_X=True, fit_intercept=True, n_jobs=None,\n",
       "         normalize=False)"
      ]
     },
     "execution_count": 209,
     "metadata": {},
     "output_type": "execute_result"
    }
   ],
   "source": [
    "# Build a Ridge, Lasso and regular linear regression model. \n",
    "# Note that in scikit learn, the regularization parameter is denoted by alpha (and not lambda)\n",
    "ridge3 = Ridge(alpha=0.1)\n",
    "ridge3.fit(X_train, y_train)\n",
    "\n",
    "lasso3 = Lasso(alpha=0.1)\n",
    "lasso3.fit(X_train, y_train)\n",
    "\n",
    "lin = LinearRegression()\n",
    "lin.fit(X_train, y_train)"
   ]
  },
  {
   "cell_type": "code",
   "execution_count": 210,
   "metadata": {
    "code_folding": [
     0
    ]
   },
   "outputs": [],
   "source": [
    "# Create preditions for training and test sets \n",
    "y_h_ridge_train3 = ridge3.predict(X_train)\n",
    "y_h_ridge_test3 = ridge3.predict(X_test)\n",
    "\n",
    "y_h_lasso_train3 = lasso3.predict(X_train)\n",
    "y_h_lasso_test3 = lasso3.predict(X_test)\n",
    "\n",
    "y_h_lin_train = lin.predict(X_train)\n",
    "y_h_lin_test = lin.predict(X_test)"
   ]
  },
  {
   "cell_type": "code",
   "execution_count": 211,
   "metadata": {
    "code_folding": [
     0
    ]
   },
   "outputs": [
    {
     "name": "stdout",
     "output_type": "stream",
     "text": [
      "Train Error Ridge Model 29.183840315201646\n",
      "Test Error Ridge Model 12.084314004360543\n",
      "\n",
      "\n",
      "Train Error Lasso Model 14863.512411572308\n",
      "Test Error Lasso Model 6695.079707846835\n",
      "\n",
      "\n",
      "Train Error Unpenalized Linear Model 28.132605617363456\n",
      "Test Error Unpenalized Linear Model 11.636560883181387\n"
     ]
    }
   ],
   "source": [
    "# Print errors \n",
    "print('Train Error Ridge Model', np.sum((y_train - y_h_ridge_train3)**2))\n",
    "print('Test Error Ridge Model', np.sum((y_test - y_h_ridge_test3)**2))\n",
    "print('\\n')\n",
    "\n",
    "print('Train Error Lasso Model', np.sum((y_train - y_h_lasso_train3)**2))\n",
    "print('Test Error Lasso Model', np.sum((y_test - y_h_lasso_test3)**2))\n",
    "print('\\n')\n",
    "\n",
    "print('Train Error Unpenalized Linear Model', np.sum((y_train - lin.predict(X_train))**2))\n",
    "print('Test Error Unpenalized Linear Model', np.sum((y_test - lin.predict(X_test))**2))"
   ]
  },
  {
   "cell_type": "code",
   "execution_count": 212,
   "metadata": {},
   "outputs": [
    {
     "name": "stdout",
     "output_type": "stream",
     "text": [
      "Training r^2: 0.9997079216890412\n",
      "Testing r^2: 0.999725407297612\n",
      "Training MSE: 0.0029004015419600124\n",
      "Testing MSE: 0.002801834918701726\n"
     ]
    }
   ],
   "source": [
    "print('Training r^2:', ridge3.score(X_train, y_train))\n",
    "print('Testing r^2:', ridge3.score(X_test, y_test))\n",
    "print('Training MSE:', mean_squared_error(y_train, ridge3.predict(X_train)))\n",
    "print('Testing MSE:', mean_squared_error(y_test, ridge3.predict(X_test)))"
   ]
  },
  {
   "cell_type": "code",
   "execution_count": 213,
   "metadata": {},
   "outputs": [
    {
     "name": "stdout",
     "output_type": "stream",
     "text": [
      "Training r^2: 0.8512426893377405\n",
      "Testing r^2: 0.8478672410351186\n",
      "Training MSE: 1.477192646747397\n",
      "Testing MSE: 1.5523022740196697\n"
     ]
    }
   ],
   "source": [
    "print('Training r^2:', lasso3.score(X_train, y_train))\n",
    "print('Testing r^2:', lasso3.score(X_test, y_test))\n",
    "print('Training MSE:', mean_squared_error(y_train, lasso3.predict(X_train)))\n",
    "print('Testing MSE:', mean_squared_error(y_test, lasso3.predict(X_test)))"
   ]
  },
  {
   "cell_type": "code",
   "execution_count": 214,
   "metadata": {
    "code_folding": [
     0
    ]
   },
   "outputs": [
    {
     "name": "stdout",
     "output_type": "stream",
     "text": [
      "Ridge parameter coefficients: [-2.01178220e-03  5.67392496e-02  3.80038742e-02  1.65521655e-01\n",
      "  2.79884905e-01 -4.31283258e-01 -4.65316045e-02  2.91027353e-01\n",
      " -3.04783445e-01  8.31119976e-04  1.89575702e-01 -3.26176677e-01\n",
      "  3.28645935e-02  5.72630249e-02  3.50501843e-01 -1.88983431e-01\n",
      " -2.11312417e-03  6.81871938e-02  2.11550140e-03  2.08782224e-02\n",
      "  1.94192526e-01 -8.34912780e-02 -1.89440535e-02 -2.94428901e-01\n",
      " -7.24617942e-03  3.56141981e-01 -3.37209143e-02 -1.63649527e-02\n",
      "  3.79085911e-02 -1.30481326e-01 -7.31298822e-02  1.37126767e-01\n",
      " -4.06119458e-02  7.03509799e-02  4.87111888e-02 -1.65466666e-02\n",
      "  3.17596929e-02  1.88139083e+01  1.41273904e+01  4.36102761e-02\n",
      " -1.00835144e-01 -7.92558999e-03  3.70289966e-01 -4.80114122e-02\n",
      " -1.06675339e-02 -1.19068648e-03 -2.64762035e-02 -1.36991148e-02\n",
      "  7.40926748e-03 -3.48047954e-02 -2.02164592e-02]\n",
      "Lasso parameter coefficients: [ 0.         -0.          0.          2.88296045  0.          0.\n",
      "  0.          0.          0.         -0.          0.          0.\n",
      "  0.          0.          0.          0.1541893  -0.          0.\n",
      "  0.          0.          0.          0.          0.          0.\n",
      "  0.          4.08015361  0.         -0.          0.          0.\n",
      "  0.          0.          0.          0.          0.         -0.\n",
      " -0.         10.45196962  0.          0.          0.          0.\n",
      "  0.2027733  -0.         -0.          0.          0.          0.\n",
      " -0.         -0.         -0.        ]\n",
      "Linear model parameter coefficients: [-1.75656129e-02  6.42227817e-02  4.30528541e-03  5.39119501e-02\n",
      "  4.97237444e-02 -8.51623908e-02 -1.56944368e-01  8.47723351e-02\n",
      " -8.05255288e-02  4.27620074e-04  2.24801491e-02 -5.61941935e-02\n",
      "  5.17008256e-02  1.66192500e-01  9.96333712e-02 -8.02448476e-02\n",
      " -5.89281808e-03  1.86818429e-02  1.46025606e-03  6.40419232e-03\n",
      "  5.95797300e-02 -4.45610111e-02  4.87136926e-02 -5.74423570e-02\n",
      " -5.26015362e-03  7.77445123e-02 -2.30334344e-02 -3.21440615e-02\n",
      "  4.51407559e-02 -2.69390963e-01 -2.38013115e-01  3.74527549e-01\n",
      " -2.59438225e-02  4.35664211e-02 -1.34115377e-02 -2.65341228e-02\n",
      "  2.62850532e-02  1.92663170e+01  1.43169641e+01  1.91105333e-01\n",
      "  8.25456715e-02 -2.60628960e-01  1.02480371e-01  3.70913075e+00\n",
      "  5.52155329e-04  4.69534431e-03 -4.54934818e+00 -3.02605097e+00\n",
      " -2.26574796e+00 -3.79130249e+00 -3.03218665e+00]\n"
     ]
    }
   ],
   "source": [
    "# Print coefficients \n",
    "print('Ridge parameter coefficients:', ridge3.coef_)\n",
    "print('Lasso parameter coefficients:', lasso3.coef_)\n",
    "print('Linear model parameter coefficients:', lin.coef_)"
   ]
  },
  {
   "cell_type": "code",
   "execution_count": null,
   "metadata": {},
   "outputs": [],
   "source": []
  }
 ],
 "metadata": {
  "kernelspec": {
   "display_name": "Python 3",
   "language": "python",
   "name": "python3"
  },
  "language_info": {
   "codemirror_mode": {
    "name": "ipython",
    "version": 3
   },
   "file_extension": ".py",
   "mimetype": "text/x-python",
   "name": "python",
   "nbconvert_exporter": "python",
   "pygments_lexer": "ipython3",
   "version": "3.7.3"
  },
  "toc": {
   "base_numbering": 1,
   "nav_menu": {},
   "number_sections": true,
   "sideBar": true,
   "skip_h1_title": false,
   "title_cell": "Table of Contents",
   "title_sidebar": "Contents",
   "toc_cell": false,
   "toc_position": {},
   "toc_section_display": true,
   "toc_window_display": false
  }
 },
 "nbformat": 4,
 "nbformat_minor": 2
}
